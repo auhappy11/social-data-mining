{
  "nbformat": 4,
  "nbformat_minor": 0,
  "metadata": {
    "colab": {
      "provenance": [],
      "toc_visible": true
    },
    "kernelspec": {
      "name": "python3",
      "display_name": "Python 3"
    },
    "language_info": {
      "name": "python"
    },
    "accelerator": "GPU",
    "gpuClass": "standard"
  },
  "cells": [
    {
      "cell_type": "code",
      "execution_count": null,
      "metadata": {
        "id": "1M6p_MfNtVbM"
      },
      "outputs": [],
      "source": [
        "#installing necessary packages\n",
        "!pip install tweet-preprocessor\n",
        "!pip install scikit-plot"
      ]
    },
    {
      "cell_type": "code",
      "source": [
        "import pandas as pd\n",
        "import itertools\n",
        "import matplotlib.pyplot as plt\n",
        "import seaborn as sns\n",
        "import numpy as np\n",
        "import re\n",
        "import string\n",
        "import nltk\n",
        "import os\n",
        "import pickle\n",
        "from numpy import asarray\n",
        "from numpy import zeros\n",
        "nltk.download('stopwords')\n",
        "from nltk.corpus import stopwords\n",
        "from nltk.tokenize import TweetTokenizer\n",
        "tknzr = TweetTokenizer()\n",
        "from sklearn.feature_extraction.text import CountVectorizer\n",
        "from sklearn.model_selection import train_test_split\n",
        "import en_core_web_sm\n",
        "import random\n",
        "from tensorflow import keras\n",
        "from keras.layers import Embedding,Dense,Dropout,LSTM\n",
        "from keras.models import Sequential\n",
        "from sklearn import metrics\n",
        "from sklearn.metrics import accuracy_score\n",
        "from sklearn.preprocessing import LabelEncoder\n",
        "from keras.preprocessing.text import Tokenizer\n",
        "from keras_preprocessing.sequence import pad_sequences\n",
        "from keras.callbacks import ReduceLROnPlateau\n",
        "import scikitplot as splt\n",
        "from collections import Counter\n",
        "nltk.download('punkt')\n",
        "nltk.download('wordnet')\n",
        "from nltk.tokenize import word_tokenize"
      ],
      "metadata": {
        "colab": {
          "base_uri": "https://localhost:8080/"
        },
        "id": "iewFc4zet_Qi",
        "outputId": "315d7477-a2e6-494a-93d1-18e4f61acb13"
      },
      "execution_count": 2,
      "outputs": [
        {
          "output_type": "stream",
          "name": "stderr",
          "text": [
            "[nltk_data] Downloading package stopwords to /root/nltk_data...\n",
            "[nltk_data]   Unzipping corpora/stopwords.zip.\n",
            "[nltk_data] Downloading package punkt to /root/nltk_data...\n",
            "[nltk_data]   Unzipping tokenizers/punkt.zip.\n",
            "[nltk_data] Downloading package wordnet to /root/nltk_data...\n"
          ]
        }
      ]
    },
    {
      "cell_type": "code",
      "source": [
        "# Should have files in gdrive\n",
        "\n",
        "from google.colab import drive\n",
        "drive.mount('/content/gdrive')"
      ],
      "metadata": {
        "colab": {
          "base_uri": "https://localhost:8080/"
        },
        "id": "lyg6n8BGyl12",
        "outputId": "5c7c59c9-d501-4039-ef25-8f98bd69eaf0"
      },
      "execution_count": 3,
      "outputs": [
        {
          "output_type": "stream",
          "name": "stdout",
          "text": [
            "Mounted at /content/gdrive\n"
          ]
        }
      ]
    },
    {
      "cell_type": "markdown",
      "source": [
        "# Sentiment Analysis Model - LSTM"
      ],
      "metadata": {
        "id": "VvwOEHBYzuyt"
      }
    },
    {
      "cell_type": "markdown",
      "source": [
        "## Training Model using Sentiment140"
      ],
      "metadata": {
        "id": "tygNQXi8z1Be"
      }
    },
    {
      "cell_type": "code",
      "source": [
        "train = pd.read_csv(\"gdrive/My Drive/Colab Notebooks/Social_Paper3/train.csv\", encoding = 'latin', header = None)\n",
        "train.columns = ['target', 'id', 'date', 'flag', 'user', 'text']\n",
        "train = train.drop(['id', 'date', 'flag', 'user'], axis = 1)\n",
        "\n",
        "# preprocessing training data\n",
        "train['text'] = train['text'].apply(lambda x: re.sub(r'https?:\\/\\/[a-zA-Z0-9@:%._\\/+~#=?&;-]*', ' ', x))\n",
        "train['text'] = train['text'].apply(lambda x: re.sub(r'\\$[a-zA-Z0-9]*', ' ', x))\n",
        "train['text'] = train['text'].apply(lambda x: re.sub(r'\\@[a-zA-Z0-9]*', ' ', x))\n",
        "train['text'] = train['text'].apply(lambda x: re.sub(r'[^a-zA-Z\\']', ' ', x))\n",
        "train['text'] = train['text'].str.lower()\n",
        "\n",
        "train.target.value_counts()"
      ],
      "metadata": {
        "colab": {
          "base_uri": "https://localhost:8080/"
        },
        "id": "qHxe5Yz0z0UQ",
        "outputId": "51571228-5217-45e7-8941-81a4dbda2eaf"
      },
      "execution_count": 4,
      "outputs": [
        {
          "output_type": "execute_result",
          "data": {
            "text/plain": [
              "0    800000\n",
              "4    800000\n",
              "Name: target, dtype: int64"
            ]
          },
          "metadata": {},
          "execution_count": 4
        }
      ]
    },
    {
      "cell_type": "code",
      "source": [
        "train_data, test_data = train_test_split(train, test_size = 0.2, stratify = train.target)\n",
        "print(\"Size of Train Data: \", len(train_data))\n",
        "print(\"Size of Test Data: \",len(test_data))"
      ],
      "metadata": {
        "colab": {
          "base_uri": "https://localhost:8080/"
        },
        "id": "ODj0abq-ys1w",
        "outputId": "8e56c260-effa-410d-a9e0-0086bc19c18b"
      },
      "execution_count": 5,
      "outputs": [
        {
          "output_type": "stream",
          "name": "stdout",
          "text": [
            "Size of Train Data:  1280000\n",
            "Size of Test Data:  320000\n"
          ]
        }
      ]
    },
    {
      "cell_type": "code",
      "source": [
        "encoder = LabelEncoder()\n",
        "encoder.fit(train_data.target.to_list())\n",
        "\n",
        "y_train = encoder.transform(train_data.target.to_list())\n",
        "y_test = encoder.transform(test_data.target.to_list())\n",
        "\n",
        "y_train = y_train.reshape(-1, 1)\n",
        "y_test = y_test.reshape(-1, 1)"
      ],
      "metadata": {
        "id": "5h5wJQYdzyCC"
      },
      "execution_count": 6,
      "outputs": []
    },
    {
      "cell_type": "code",
      "source": [
        "tokenizer = Tokenizer()\n",
        "tokenizer.fit_on_texts(train_data.text)\n",
        "with open('tokenizer.pickle', 'wb') as handle:\n",
        "  pickle.dump(tokenizer, handle, protocol = pickle.HIGHEST_PROTOCOL)"
      ],
      "metadata": {
        "id": "qvYSH8wzzx_5"
      },
      "execution_count": 7,
      "outputs": []
    },
    {
      "cell_type": "code",
      "source": [
        "max_length = max([len(s.split()) for s in train_data.text])\n",
        "\n",
        "x_train = pad_sequences(tokenizer.texts_to_sequences(train_data.text),\n",
        "                        maxlen = max_length)\n",
        "\n",
        "x_test = pad_sequences(tokenizer.texts_to_sequences(test_data.text),\n",
        "                       maxlen = max_length)\n",
        "\n",
        "print(\"x_train shape: \", x_train.shape)\n",
        "print(\"x_test shape: \", x_test.shape)\n",
        "print(\"y_train shape: \", y_train.shape)\n",
        "print(\"y_test shape: \", y_test.shape)"
      ],
      "metadata": {
        "colab": {
          "base_uri": "https://localhost:8080/"
        },
        "id": "jlKj7kn2zx9w",
        "outputId": "62e02453-3162-4afe-c83c-7c4d83d7692c"
      },
      "execution_count": 8,
      "outputs": [
        {
          "output_type": "stream",
          "name": "stdout",
          "text": [
            "x_train shape:  (1280000, 52)\n",
            "x_test shape:  (320000, 52)\n",
            "y_train shape:  (1280000, 1)\n",
            "y_test shape:  (320000, 1)\n"
          ]
        }
      ]
    },
    {
      "cell_type": "markdown",
      "source": [
        "Using existing embedding space:\n",
        "https://www.kaggle.com/datasets/fullmetal26/glovetwitter27b100dtxt"
      ],
      "metadata": {
        "id": "nS-0QhE610En"
      }
    },
    {
      "cell_type": "code",
      "source": [
        "def load_embedding(filename):\n",
        "  file = open(filename, 'r', encoding = \"utf-8\")\n",
        "  lines = file.readlines()\n",
        "  file.close()\n",
        "\n",
        "  #creating map of words to vectors\n",
        "  embedding = dict()\n",
        "  for line in lines:\n",
        "    parts = line.split()\n",
        "    embedding[parts[0]] = asarray(parts[1:], dtype = 'float32')\n",
        "  \n",
        "  return embedding\n",
        "\n",
        "def get_weight_matrix(embedding, vocab):\n",
        "  vocab_size = len(vocab) + 1\n",
        "  weight_matrix = zeros((vocab_size, embedding_dim))\n",
        "\n",
        "  for word, i in vocab.items():\n",
        "    vector = embedding.get(word)\n",
        "    if vector is not None:\n",
        "      weight_matrix[i] = vector\n",
        "  \n",
        "  return weight_matrix"
      ],
      "metadata": {
        "id": "UWktF0WTzx7m"
      },
      "execution_count": 9,
      "outputs": []
    },
    {
      "cell_type": "code",
      "source": [
        "vocab = tokenizer.word_index\n",
        "vocab_size = len(tokenizer.word_index) + 1\n",
        "embedding_dim = 200\n",
        "\n",
        "raw_embedding = load_embedding('gdrive/My Drive/Colab Notebooks/Social_Paper3/glove.twitter.27B.200d.txt')\n",
        "embedding_matrix = get_weight_matrix(raw_embedding, vocab)\n",
        "\n",
        "print(\"Vocab size: \", vocab_size)\n",
        "print(\"Max text length: \", max_length)\n",
        "print(\"Embedding dim: \", embedding_dim)"
      ],
      "metadata": {
        "colab": {
          "base_uri": "https://localhost:8080/"
        },
        "id": "e5d6LfeLzx5W",
        "outputId": "431c77a9-7545-4af6-c552-5269b352b60d"
      },
      "execution_count": 10,
      "outputs": [
        {
          "output_type": "stream",
          "name": "stdout",
          "text": [
            "Vocab size:  256252\n",
            "Max text length:  52\n",
            "Embedding dim:  200\n",
            "Vocab size:  256252\n",
            "Max text length:  52\n",
            "Embedding Dimension:  200\n"
          ]
        }
      ]
    },
    {
      "cell_type": "code",
      "source": [
        "# Model Building\n",
        "\n",
        "embedding_layer = Embedding(vocab_size,\n",
        "                            embedding_dim,\n",
        "                            weights = [embedding_matrix],\n",
        "                            input_length = max_length,\n",
        "                            trainable = False)\n",
        "\n",
        "model = Sequential()\n",
        "model.add(embedding_layer)\n",
        "model.add(Dropout(0.2))\n",
        "model.add(LSTM(200, dropout = 0.2))\n",
        "model.add(Dense(64, activation = 'relu'))\n",
        "model.add(Dense(1, activation = \"sigmoid\"))\n",
        "\n",
        "print(model.summary())"
      ],
      "metadata": {
        "colab": {
          "base_uri": "https://localhost:8080/"
        },
        "id": "OWSNPwnTzx3M",
        "outputId": "3edf4633-6d76-4fbf-b063-95a131aa5b19"
      },
      "execution_count": 11,
      "outputs": [
        {
          "output_type": "stream",
          "name": "stdout",
          "text": [
            "Model: \"sequential\"\n",
            "_________________________________________________________________\n",
            " Layer (type)                Output Shape              Param #   \n",
            "=================================================================\n",
            " embedding (Embedding)       (None, 52, 200)           51250400  \n",
            "                                                                 \n",
            " dropout (Dropout)           (None, 52, 200)           0         \n",
            "                                                                 \n",
            " lstm (LSTM)                 (None, 200)               320800    \n",
            "                                                                 \n",
            " dense (Dense)               (None, 64)                12864     \n",
            "                                                                 \n",
            " dense_1 (Dense)             (None, 1)                 65        \n",
            "                                                                 \n",
            "=================================================================\n",
            "Total params: 51,584,129\n",
            "Trainable params: 333,729\n",
            "Non-trainable params: 51,250,400\n",
            "_________________________________________________________________\n",
            "None\n"
          ]
        }
      ]
    },
    {
      "cell_type": "code",
      "source": [
        "BATCH_SIZE = 1024\n",
        "EPOCHS = 15\n",
        "\n",
        "model.compile(optimizer = \"adam\", loss = 'binary_crossentropy', metrics = ['accuracy'])\n",
        "\n",
        "reduce_lr = ReduceLROnPlateau(monitor = 'val_loss',\n",
        "                              factor = 0.1,\n",
        "                              min_lr = 0.01)\n",
        "\n",
        "history = model.fit(x_train, y_train, batch_size = BATCH_SIZE, epochs = EPOCHS,\n",
        "                    validation_split = 0.1, verbose = 1, callbacks = [reduce_lr])"
      ],
      "metadata": {
        "colab": {
          "base_uri": "https://localhost:8080/"
        },
        "id": "a6IFzIno7CxI",
        "outputId": "0b2cd488-de08-4119-df32-4911ac68c2d2"
      },
      "execution_count": 12,
      "outputs": [
        {
          "output_type": "stream",
          "name": "stdout",
          "text": [
            "Epoch 1/15\n",
            "1125/1125 [==============================] - 72s 59ms/step - loss: 0.4664 - accuracy: 0.7750 - val_loss: 0.4126 - val_accuracy: 0.8102 - lr: 0.0010\n",
            "Epoch 2/15\n",
            "1125/1125 [==============================] - 65s 58ms/step - loss: 0.4239 - accuracy: 0.8025 - val_loss: 0.3966 - val_accuracy: 0.8188 - lr: 0.0010\n",
            "Epoch 3/15\n",
            "1125/1125 [==============================] - 65s 58ms/step - loss: 0.4083 - accuracy: 0.8118 - val_loss: 0.3880 - val_accuracy: 0.8239 - lr: 0.0010\n",
            "Epoch 4/15\n",
            "1125/1125 [==============================] - 64s 57ms/step - loss: 0.3979 - accuracy: 0.8176 - val_loss: 0.3804 - val_accuracy: 0.8285 - lr: 0.0010\n",
            "Epoch 5/15\n",
            "1125/1125 [==============================] - 66s 58ms/step - loss: 0.3900 - accuracy: 0.8220 - val_loss: 0.3785 - val_accuracy: 0.8292 - lr: 0.0010\n",
            "Epoch 6/15\n",
            "1125/1125 [==============================] - 64s 57ms/step - loss: 0.3835 - accuracy: 0.8256 - val_loss: 0.3729 - val_accuracy: 0.8327 - lr: 0.0010\n",
            "Epoch 7/15\n",
            "1125/1125 [==============================] - 65s 57ms/step - loss: 0.3787 - accuracy: 0.8279 - val_loss: 0.3753 - val_accuracy: 0.8329 - lr: 0.0010\n",
            "Epoch 8/15\n",
            "1125/1125 [==============================] - 64s 57ms/step - loss: 0.3740 - accuracy: 0.8306 - val_loss: 0.3741 - val_accuracy: 0.8333 - lr: 0.0010\n",
            "Epoch 9/15\n",
            "1125/1125 [==============================] - 65s 57ms/step - loss: 0.3701 - accuracy: 0.8323 - val_loss: 0.3702 - val_accuracy: 0.8354 - lr: 0.0010\n",
            "Epoch 10/15\n",
            "1125/1125 [==============================] - 66s 59ms/step - loss: 0.3671 - accuracy: 0.8345 - val_loss: 0.3713 - val_accuracy: 0.8360 - lr: 0.0010\n",
            "Epoch 11/15\n",
            "1125/1125 [==============================] - 66s 58ms/step - loss: 0.3641 - accuracy: 0.8355 - val_loss: 0.3756 - val_accuracy: 0.8338 - lr: 0.0010\n",
            "Epoch 12/15\n",
            "1125/1125 [==============================] - 65s 58ms/step - loss: 0.3614 - accuracy: 0.8373 - val_loss: 0.3718 - val_accuracy: 0.8347 - lr: 0.0010\n",
            "Epoch 13/15\n",
            "1125/1125 [==============================] - 65s 58ms/step - loss: 0.3591 - accuracy: 0.8385 - val_loss: 0.3682 - val_accuracy: 0.8383 - lr: 0.0010\n",
            "Epoch 14/15\n",
            "1125/1125 [==============================] - 65s 58ms/step - loss: 0.3573 - accuracy: 0.8395 - val_loss: 0.3690 - val_accuracy: 0.8360 - lr: 0.0010\n",
            "Epoch 15/15\n",
            "1125/1125 [==============================] - 66s 58ms/step - loss: 0.3553 - accuracy: 0.8403 - val_loss: 0.3688 - val_accuracy: 0.8367 - lr: 0.0010\n"
          ]
        }
      ]
    },
    {
      "cell_type": "code",
      "source": [
        "score = model.evaluate(x_test, y_test, batch_size = BATCH_SIZE)\n",
        "print(\"Train accuracy: \", model.evaluate(x_train, y_train, batch_size = BATCH_SIZE)[1])\n",
        "print(\"Test accuracy: \", score[1])\n",
        "model.save('lstm_final.h5')"
      ],
      "metadata": {
        "id": "4ZJyDtYMzxyb",
        "colab": {
          "base_uri": "https://localhost:8080/"
        },
        "outputId": "f37abf22-bbb6-499c-b397-1d578aa1f652"
      },
      "execution_count": 13,
      "outputs": [
        {
          "output_type": "stream",
          "name": "stdout",
          "text": [
            "313/313 [==============================] - 5s 15ms/step - loss: 0.3718 - accuracy: 0.8348\n",
            "1250/1250 [==============================] - 19s 15ms/step - loss: 0.3237 - accuracy: 0.8569\n",
            "Train accuracy:  0.8569148182868958\n",
            "Test accuracy:  0.8348374962806702\n"
          ]
        }
      ]
    },
    {
      "cell_type": "markdown",
      "source": [
        "# Sentiment Analysis Using Model"
      ],
      "metadata": {
        "id": "se3SXhjFytWx"
      }
    },
    {
      "cell_type": "markdown",
      "source": [
        "## Timeframe 1 (March 2020)"
      ],
      "metadata": {
        "id": "uPhsLlJOy2SR"
      }
    },
    {
      "cell_type": "code",
      "source": [
        "# file directory change as needed\n",
        "# downloaded csv file in google drive\n",
        "\n",
        "t1_df = pd.read_csv('gdrive/My Drive/Colab Notebooks/Social_Paper3/t1_csv.csv')\n",
        "t1_df = t1_df.drop(['Unnamed: 0', 'id'], axis = 1)\n",
        "t1_df['Id'] = range(1, len(t1_df) + 1)\n",
        "first_column = t1_df.pop('Id')\n",
        "t1_df.insert(0, 'Id', first_column)\n",
        "\n",
        "def remove_timezone(dt):\n",
        "  return dt.replace(tzinfo = None)\n",
        "\n",
        "t1_df['date'] = pd.to_datetime(t1_df['date'])\n",
        "t1_df['date'] = t1_df['date'].apply(remove_timezone)\n",
        "\n",
        "t1_df['text'] = t1_df.content.apply(lambda x: re.sub(r'https?:\\/\\/\\S+', ' ', x))\n",
        "t1_df['text'] = t1_df.text.apply(lambda x: re.sub(r\"www\\.[a-z]?\\.?(com)+|[a-z]+\\.(com)\", ' ', x))\n",
        "t1_df['text'] = t1_df.text.apply(lambda x: re.sub(r\"\\b's\\b\", ' ', x))\n",
        "t1_df['text'] = t1_df.text.apply(lambda x: re.sub(r'{link}', ' ', x))\n",
        "t1_df['text'] = t1_df.text.apply(lambda x: re.sub(r\"\\[video\\]\", ' ', x))\n",
        "t1_df['text'] = t1_df.text.apply(lambda x: re.sub(r'&[a-z]+;', ' ', x))\n",
        "t1_df['text'] = t1_df.text.apply(lambda x: re.sub(r'\\s*@\\w+', ' ', x))\n",
        "t1_df['text'] = t1_df.text.apply(lambda x: re.sub(r'[^\\w]', ' ', x))\n",
        "t1_df['text'] = t1_df.text.apply(lambda x: re.sub(r'\\n', ' ', x))\n",
        "t1_df['text'] = t1_df.text.apply(lambda x: re.sub(r'[^a-zA-Z0-9]+', ' ', x))\n",
        "t1_df['text'] = t1_df.text.str.lower()\n",
        "\n",
        "t1_df['tokens'] = t1_df['content'].apply(tknzr.tokenize)\n",
        "\n",
        "t1_df.head()"
      ],
      "metadata": {
        "id": "uWeFP5qfysyY",
        "colab": {
          "base_uri": "https://localhost:8080/",
          "height": 424
        },
        "outputId": "05c6d936-127b-45f9-b8c1-cc1a3af8ccc5"
      },
      "execution_count": 14,
      "outputs": [
        {
          "output_type": "execute_result",
          "data": {
            "text/plain": [
              "   Id                date                                            content  \\\n",
              "0   1 2020-03-30 23:58:43  Thanks @NatGeoMag just the extra scoop of depr...   \n",
              "1   2 2020-03-30 23:57:31  #Quarantine realization: \\n\\nIt is impossible ...   \n",
              "2   3 2020-03-30 23:57:11  It’s not fair #Snapchat #SocialDistancing #Qua...   \n",
              "3   4 2020-03-30 23:56:51  Since this quarantine started, the risk of sta...   \n",
              "4   5 2020-03-30 23:56:28  Thank u our Police and doctors 🙏💚 🇮🇳\\n#StayHom...   \n",
              "\n",
              "                                            hashtags  \\\n",
              "0                          ['COVID19', 'Quarantine']   \n",
              "1  ['Quarantine', 'QuarantineLife', 'CatsOfTwitte...   \n",
              "2  ['Snapchat', 'SocialDistancing', 'Quarantine',...   \n",
              "3                          ['Quarantine', 'COVID19']   \n",
              "4  ['StayHomeSaveLives', '21daysLockdown', 'COVID...   \n",
              "\n",
              "                                                text  \\\n",
              "0  Thanks just the extra scoop of depression I ne...   \n",
              "1   Quarantine realization It is impossible to wo...   \n",
              "2  It s not fair Snapchat SocialDistancing Quaran...   \n",
              "3  Since this quarantine started the risk of star...   \n",
              "4  Thank u our Police and doctors StayHomeSaveLiv...   \n",
              "\n",
              "                                              tokens  \n",
              "0  [Thanks, @NatGeoMag, just, the, extra, scoop, ...  \n",
              "1  [#Quarantine, realization, :, It, is, impossib...  \n",
              "2  [It, ’, s, not, fair, #Snapchat, #SocialDistan...  \n",
              "3  [Since, this, quarantine, started, ,, the, ris...  \n",
              "4  [Thank, u, our, Police, and, doctors, 🙏, 💚, 🇮,...  "
            ],
            "text/html": [
              "\n",
              "  <div id=\"df-682bed8c-860d-472d-acda-a1ea88bb250e\">\n",
              "    <div class=\"colab-df-container\">\n",
              "      <div>\n",
              "<style scoped>\n",
              "    .dataframe tbody tr th:only-of-type {\n",
              "        vertical-align: middle;\n",
              "    }\n",
              "\n",
              "    .dataframe tbody tr th {\n",
              "        vertical-align: top;\n",
              "    }\n",
              "\n",
              "    .dataframe thead th {\n",
              "        text-align: right;\n",
              "    }\n",
              "</style>\n",
              "<table border=\"1\" class=\"dataframe\">\n",
              "  <thead>\n",
              "    <tr style=\"text-align: right;\">\n",
              "      <th></th>\n",
              "      <th>Id</th>\n",
              "      <th>date</th>\n",
              "      <th>content</th>\n",
              "      <th>hashtags</th>\n",
              "      <th>text</th>\n",
              "      <th>tokens</th>\n",
              "    </tr>\n",
              "  </thead>\n",
              "  <tbody>\n",
              "    <tr>\n",
              "      <th>0</th>\n",
              "      <td>1</td>\n",
              "      <td>2020-03-30 23:58:43</td>\n",
              "      <td>Thanks @NatGeoMag just the extra scoop of depr...</td>\n",
              "      <td>['COVID19', 'Quarantine']</td>\n",
              "      <td>Thanks just the extra scoop of depression I ne...</td>\n",
              "      <td>[Thanks, @NatGeoMag, just, the, extra, scoop, ...</td>\n",
              "    </tr>\n",
              "    <tr>\n",
              "      <th>1</th>\n",
              "      <td>2</td>\n",
              "      <td>2020-03-30 23:57:31</td>\n",
              "      <td>#Quarantine realization: \\n\\nIt is impossible ...</td>\n",
              "      <td>['Quarantine', 'QuarantineLife', 'CatsOfTwitte...</td>\n",
              "      <td>Quarantine realization It is impossible to wo...</td>\n",
              "      <td>[#Quarantine, realization, :, It, is, impossib...</td>\n",
              "    </tr>\n",
              "    <tr>\n",
              "      <th>2</th>\n",
              "      <td>3</td>\n",
              "      <td>2020-03-30 23:57:11</td>\n",
              "      <td>It’s not fair #Snapchat #SocialDistancing #Qua...</td>\n",
              "      <td>['Snapchat', 'SocialDistancing', 'Quarantine',...</td>\n",
              "      <td>It s not fair Snapchat SocialDistancing Quaran...</td>\n",
              "      <td>[It, ’, s, not, fair, #Snapchat, #SocialDistan...</td>\n",
              "    </tr>\n",
              "    <tr>\n",
              "      <th>3</th>\n",
              "      <td>4</td>\n",
              "      <td>2020-03-30 23:56:51</td>\n",
              "      <td>Since this quarantine started, the risk of sta...</td>\n",
              "      <td>['Quarantine', 'COVID19']</td>\n",
              "      <td>Since this quarantine started the risk of star...</td>\n",
              "      <td>[Since, this, quarantine, started, ,, the, ris...</td>\n",
              "    </tr>\n",
              "    <tr>\n",
              "      <th>4</th>\n",
              "      <td>5</td>\n",
              "      <td>2020-03-30 23:56:28</td>\n",
              "      <td>Thank u our Police and doctors 🙏💚 🇮🇳\\n#StayHom...</td>\n",
              "      <td>['StayHomeSaveLives', '21daysLockdown', 'COVID...</td>\n",
              "      <td>Thank u our Police and doctors StayHomeSaveLiv...</td>\n",
              "      <td>[Thank, u, our, Police, and, doctors, 🙏, 💚, 🇮,...</td>\n",
              "    </tr>\n",
              "  </tbody>\n",
              "</table>\n",
              "</div>\n",
              "      <button class=\"colab-df-convert\" onclick=\"convertToInteractive('df-682bed8c-860d-472d-acda-a1ea88bb250e')\"\n",
              "              title=\"Convert this dataframe to an interactive table.\"\n",
              "              style=\"display:none;\">\n",
              "        \n",
              "  <svg xmlns=\"http://www.w3.org/2000/svg\" height=\"24px\"viewBox=\"0 0 24 24\"\n",
              "       width=\"24px\">\n",
              "    <path d=\"M0 0h24v24H0V0z\" fill=\"none\"/>\n",
              "    <path d=\"M18.56 5.44l.94 2.06.94-2.06 2.06-.94-2.06-.94-.94-2.06-.94 2.06-2.06.94zm-11 1L8.5 8.5l.94-2.06 2.06-.94-2.06-.94L8.5 2.5l-.94 2.06-2.06.94zm10 10l.94 2.06.94-2.06 2.06-.94-2.06-.94-.94-2.06-.94 2.06-2.06.94z\"/><path d=\"M17.41 7.96l-1.37-1.37c-.4-.4-.92-.59-1.43-.59-.52 0-1.04.2-1.43.59L10.3 9.45l-7.72 7.72c-.78.78-.78 2.05 0 2.83L4 21.41c.39.39.9.59 1.41.59.51 0 1.02-.2 1.41-.59l7.78-7.78 2.81-2.81c.8-.78.8-2.07 0-2.86zM5.41 20L4 18.59l7.72-7.72 1.47 1.35L5.41 20z\"/>\n",
              "  </svg>\n",
              "      </button>\n",
              "      \n",
              "  <style>\n",
              "    .colab-df-container {\n",
              "      display:flex;\n",
              "      flex-wrap:wrap;\n",
              "      gap: 12px;\n",
              "    }\n",
              "\n",
              "    .colab-df-convert {\n",
              "      background-color: #E8F0FE;\n",
              "      border: none;\n",
              "      border-radius: 50%;\n",
              "      cursor: pointer;\n",
              "      display: none;\n",
              "      fill: #1967D2;\n",
              "      height: 32px;\n",
              "      padding: 0 0 0 0;\n",
              "      width: 32px;\n",
              "    }\n",
              "\n",
              "    .colab-df-convert:hover {\n",
              "      background-color: #E2EBFA;\n",
              "      box-shadow: 0px 1px 2px rgba(60, 64, 67, 0.3), 0px 1px 3px 1px rgba(60, 64, 67, 0.15);\n",
              "      fill: #174EA6;\n",
              "    }\n",
              "\n",
              "    [theme=dark] .colab-df-convert {\n",
              "      background-color: #3B4455;\n",
              "      fill: #D2E3FC;\n",
              "    }\n",
              "\n",
              "    [theme=dark] .colab-df-convert:hover {\n",
              "      background-color: #434B5C;\n",
              "      box-shadow: 0px 1px 3px 1px rgba(0, 0, 0, 0.15);\n",
              "      filter: drop-shadow(0px 1px 2px rgba(0, 0, 0, 0.3));\n",
              "      fill: #FFFFFF;\n",
              "    }\n",
              "  </style>\n",
              "\n",
              "      <script>\n",
              "        const buttonEl =\n",
              "          document.querySelector('#df-682bed8c-860d-472d-acda-a1ea88bb250e button.colab-df-convert');\n",
              "        buttonEl.style.display =\n",
              "          google.colab.kernel.accessAllowed ? 'block' : 'none';\n",
              "\n",
              "        async function convertToInteractive(key) {\n",
              "          const element = document.querySelector('#df-682bed8c-860d-472d-acda-a1ea88bb250e');\n",
              "          const dataTable =\n",
              "            await google.colab.kernel.invokeFunction('convertToInteractive',\n",
              "                                                     [key], {});\n",
              "          if (!dataTable) return;\n",
              "\n",
              "          const docLinkHtml = 'Like what you see? Visit the ' +\n",
              "            '<a target=\"_blank\" href=https://colab.research.google.com/notebooks/data_table.ipynb>data table notebook</a>'\n",
              "            + ' to learn more about interactive tables.';\n",
              "          element.innerHTML = '';\n",
              "          dataTable['output_type'] = 'display_data';\n",
              "          await google.colab.output.renderOutput(dataTable, element);\n",
              "          const docLink = document.createElement('div');\n",
              "          docLink.innerHTML = docLinkHtml;\n",
              "          element.appendChild(docLink);\n",
              "        }\n",
              "      </script>\n",
              "    </div>\n",
              "  </div>\n",
              "  "
            ]
          },
          "metadata": {},
          "execution_count": 14
        }
      ]
    },
    {
      "cell_type": "code",
      "source": [
        "# check if there is same tweets/duplicates\n",
        "t1_df['content'].is_unique"
      ],
      "metadata": {
        "id": "TO1BuGBgzl9y",
        "colab": {
          "base_uri": "https://localhost:8080/"
        },
        "outputId": "80e04874-7568-48fb-ab31-565d5be2a409"
      },
      "execution_count": 15,
      "outputs": [
        {
          "output_type": "execute_result",
          "data": {
            "text/plain": [
              "True"
            ]
          },
          "metadata": {},
          "execution_count": 15
        }
      ]
    },
    {
      "cell_type": "code",
      "source": [
        "from keras.models import load_model\n",
        "\n",
        "def decode_prediction(pred):\n",
        "  return 'Negative' if pred < 0.5 else 'Positive'\n",
        "\n",
        "model = load_model('lstm_final.h5')\n",
        "\n",
        "with open('tokenizer.pickle', 'rb') as handle:\n",
        "  tokenizer = pickle.load(handle)\n",
        "\n",
        "tweet = t1_df['text']\n",
        "#max_length = max([len(s.split()) for s in tweet])\n",
        "#tokenize = keras.preprocessing.text.Tokenizer()\n",
        "#tokenize.fit_on_texts(tweet)\n",
        "\n",
        "tweet = pad_sequences(tokenizer.texts_to_sequences(tweet),\n",
        "                           maxlen = max_length)\n",
        "\n",
        "prediction = model.predict(tweet)\n",
        "#label = decode_prediction(prediction)\n",
        "label = np.apply_along_axis(decode_prediction, 1, prediction)\n",
        "\n",
        "Counter(label)"
      ],
      "metadata": {
        "id": "yvCcJ44ZzsNV",
        "colab": {
          "base_uri": "https://localhost:8080/"
        },
        "outputId": "43af1b35-75b6-44f6-ba91-b357a47b3f9c"
      },
      "execution_count": 23,
      "outputs": [
        {
          "output_type": "stream",
          "name": "stdout",
          "text": [
            "32/32 [==============================] - 0s 3ms/step\n"
          ]
        },
        {
          "output_type": "execute_result",
          "data": {
            "text/plain": [
              "Counter({'Positive': 489, 'Negative': 511})"
            ]
          },
          "metadata": {},
          "execution_count": 23
        }
      ]
    },
    {
      "cell_type": "markdown",
      "source": [
        "### Sentiment Analysis - Quantitative"
      ],
      "metadata": {
        "id": "L8dc95r8xUvM"
      }
    },
    {
      "cell_type": "code",
      "source": [
        "t1_sent = pd.DataFrame({'Text': t1_df['text'], 'Score': prediction.flatten(), 'Label': label.flatten()})\n",
        "t1_sent.head()"
      ],
      "metadata": {
        "colab": {
          "base_uri": "https://localhost:8080/",
          "height": 206
        },
        "id": "XuBAcNOLow_L",
        "outputId": "a3c88b44-f039-4159-a7fd-e4efedc70527"
      },
      "execution_count": 24,
      "outputs": [
        {
          "output_type": "execute_result",
          "data": {
            "text/plain": [
              "                                                Text     Score     Label\n",
              "0  thanks just the extra scoop of depression i ne...  0.790711  Positive\n",
              "1   quarantine realization it is impossible to wo...  0.060923  Negative\n",
              "2  it s not fair snapchat socialdistancing quaran...  0.054282  Negative\n",
              "3  since this quarantine started the risk of star...  0.074786  Negative\n",
              "4  thank u our police and doctors stayhomesaveliv...  0.600242  Positive"
            ],
            "text/html": [
              "\n",
              "  <div id=\"df-f8bf1b5c-9c59-47ac-abb6-3769768a3132\">\n",
              "    <div class=\"colab-df-container\">\n",
              "      <div>\n",
              "<style scoped>\n",
              "    .dataframe tbody tr th:only-of-type {\n",
              "        vertical-align: middle;\n",
              "    }\n",
              "\n",
              "    .dataframe tbody tr th {\n",
              "        vertical-align: top;\n",
              "    }\n",
              "\n",
              "    .dataframe thead th {\n",
              "        text-align: right;\n",
              "    }\n",
              "</style>\n",
              "<table border=\"1\" class=\"dataframe\">\n",
              "  <thead>\n",
              "    <tr style=\"text-align: right;\">\n",
              "      <th></th>\n",
              "      <th>Text</th>\n",
              "      <th>Score</th>\n",
              "      <th>Label</th>\n",
              "    </tr>\n",
              "  </thead>\n",
              "  <tbody>\n",
              "    <tr>\n",
              "      <th>0</th>\n",
              "      <td>thanks just the extra scoop of depression i ne...</td>\n",
              "      <td>0.790711</td>\n",
              "      <td>Positive</td>\n",
              "    </tr>\n",
              "    <tr>\n",
              "      <th>1</th>\n",
              "      <td>quarantine realization it is impossible to wo...</td>\n",
              "      <td>0.060923</td>\n",
              "      <td>Negative</td>\n",
              "    </tr>\n",
              "    <tr>\n",
              "      <th>2</th>\n",
              "      <td>it s not fair snapchat socialdistancing quaran...</td>\n",
              "      <td>0.054282</td>\n",
              "      <td>Negative</td>\n",
              "    </tr>\n",
              "    <tr>\n",
              "      <th>3</th>\n",
              "      <td>since this quarantine started the risk of star...</td>\n",
              "      <td>0.074786</td>\n",
              "      <td>Negative</td>\n",
              "    </tr>\n",
              "    <tr>\n",
              "      <th>4</th>\n",
              "      <td>thank u our police and doctors stayhomesaveliv...</td>\n",
              "      <td>0.600242</td>\n",
              "      <td>Positive</td>\n",
              "    </tr>\n",
              "  </tbody>\n",
              "</table>\n",
              "</div>\n",
              "      <button class=\"colab-df-convert\" onclick=\"convertToInteractive('df-f8bf1b5c-9c59-47ac-abb6-3769768a3132')\"\n",
              "              title=\"Convert this dataframe to an interactive table.\"\n",
              "              style=\"display:none;\">\n",
              "        \n",
              "  <svg xmlns=\"http://www.w3.org/2000/svg\" height=\"24px\"viewBox=\"0 0 24 24\"\n",
              "       width=\"24px\">\n",
              "    <path d=\"M0 0h24v24H0V0z\" fill=\"none\"/>\n",
              "    <path d=\"M18.56 5.44l.94 2.06.94-2.06 2.06-.94-2.06-.94-.94-2.06-.94 2.06-2.06.94zm-11 1L8.5 8.5l.94-2.06 2.06-.94-2.06-.94L8.5 2.5l-.94 2.06-2.06.94zm10 10l.94 2.06.94-2.06 2.06-.94-2.06-.94-.94-2.06-.94 2.06-2.06.94z\"/><path d=\"M17.41 7.96l-1.37-1.37c-.4-.4-.92-.59-1.43-.59-.52 0-1.04.2-1.43.59L10.3 9.45l-7.72 7.72c-.78.78-.78 2.05 0 2.83L4 21.41c.39.39.9.59 1.41.59.51 0 1.02-.2 1.41-.59l7.78-7.78 2.81-2.81c.8-.78.8-2.07 0-2.86zM5.41 20L4 18.59l7.72-7.72 1.47 1.35L5.41 20z\"/>\n",
              "  </svg>\n",
              "      </button>\n",
              "      \n",
              "  <style>\n",
              "    .colab-df-container {\n",
              "      display:flex;\n",
              "      flex-wrap:wrap;\n",
              "      gap: 12px;\n",
              "    }\n",
              "\n",
              "    .colab-df-convert {\n",
              "      background-color: #E8F0FE;\n",
              "      border: none;\n",
              "      border-radius: 50%;\n",
              "      cursor: pointer;\n",
              "      display: none;\n",
              "      fill: #1967D2;\n",
              "      height: 32px;\n",
              "      padding: 0 0 0 0;\n",
              "      width: 32px;\n",
              "    }\n",
              "\n",
              "    .colab-df-convert:hover {\n",
              "      background-color: #E2EBFA;\n",
              "      box-shadow: 0px 1px 2px rgba(60, 64, 67, 0.3), 0px 1px 3px 1px rgba(60, 64, 67, 0.15);\n",
              "      fill: #174EA6;\n",
              "    }\n",
              "\n",
              "    [theme=dark] .colab-df-convert {\n",
              "      background-color: #3B4455;\n",
              "      fill: #D2E3FC;\n",
              "    }\n",
              "\n",
              "    [theme=dark] .colab-df-convert:hover {\n",
              "      background-color: #434B5C;\n",
              "      box-shadow: 0px 1px 3px 1px rgba(0, 0, 0, 0.15);\n",
              "      filter: drop-shadow(0px 1px 2px rgba(0, 0, 0, 0.3));\n",
              "      fill: #FFFFFF;\n",
              "    }\n",
              "  </style>\n",
              "\n",
              "      <script>\n",
              "        const buttonEl =\n",
              "          document.querySelector('#df-f8bf1b5c-9c59-47ac-abb6-3769768a3132 button.colab-df-convert');\n",
              "        buttonEl.style.display =\n",
              "          google.colab.kernel.accessAllowed ? 'block' : 'none';\n",
              "\n",
              "        async function convertToInteractive(key) {\n",
              "          const element = document.querySelector('#df-f8bf1b5c-9c59-47ac-abb6-3769768a3132');\n",
              "          const dataTable =\n",
              "            await google.colab.kernel.invokeFunction('convertToInteractive',\n",
              "                                                     [key], {});\n",
              "          if (!dataTable) return;\n",
              "\n",
              "          const docLinkHtml = 'Like what you see? Visit the ' +\n",
              "            '<a target=\"_blank\" href=https://colab.research.google.com/notebooks/data_table.ipynb>data table notebook</a>'\n",
              "            + ' to learn more about interactive tables.';\n",
              "          element.innerHTML = '';\n",
              "          dataTable['output_type'] = 'display_data';\n",
              "          await google.colab.output.renderOutput(dataTable, element);\n",
              "          const docLink = document.createElement('div');\n",
              "          docLink.innerHTML = docLinkHtml;\n",
              "          element.appendChild(docLink);\n",
              "        }\n",
              "      </script>\n",
              "    </div>\n",
              "  </div>\n",
              "  "
            ]
          },
          "metadata": {},
          "execution_count": 24
        }
      ]
    },
    {
      "cell_type": "code",
      "source": [
        "positiveTweets_t1 = t1_sent[t1_sent.Label == 'Positive']\n",
        "positiveTweets_t1_pct = round((positiveTweets_t1.shape[0]/t1_sent.shape[0])*100, 1)\n",
        "print(f'Percentage of Positive Tweets is {positiveTweets_t1_pct}')\n",
        "\n",
        "negativeTweets_t1 = t1_sent[t1_sent.Label == 'Negative']\n",
        "negativeTweets_t1_pct = round((negativeTweets_t1.shape[0]/t1_sent.shape[0])*100, 1)\n",
        "print(f'Percentage of Negative Tweets is {negativeTweets_t1_pct}')"
      ],
      "metadata": {
        "colab": {
          "base_uri": "https://localhost:8080/"
        },
        "id": "Aloee9oDu-ph",
        "outputId": "b62101aa-49f8-47c9-ef65-9383de63ca4b"
      },
      "execution_count": 26,
      "outputs": [
        {
          "output_type": "stream",
          "name": "stdout",
          "text": [
            "Percentage of Positive Tweets is 48.9\n",
            "Percentage of Negative Tweets is 51.1\n"
          ]
        }
      ]
    },
    {
      "cell_type": "markdown",
      "source": [
        "## Timeframe 2 (April 2020)"
      ],
      "metadata": {
        "id": "kWwD0awexf4M"
      }
    },
    {
      "cell_type": "code",
      "source": [
        "# file directory change as needed\n",
        "# downloaded csv file in google drive\n",
        "\n",
        "t2_df = pd.read_csv('gdrive/My Drive/Colab Notebooks/Social_Paper3/t2_csv.csv')\n",
        "t2_df = t2_df.drop(['Unnamed: 0', 'id'], axis = 1)\n",
        "t2_df['Id'] = range(1, len(t2_df) + 1)\n",
        "first_column = t2_df.pop('Id')\n",
        "t2_df.insert(0, 'Id', first_column)"
      ],
      "metadata": {
        "id": "2vYhwcWpySKW"
      },
      "execution_count": 33,
      "outputs": []
    },
    {
      "cell_type": "code",
      "source": [
        "t2_df.content.is_unique"
      ],
      "metadata": {
        "colab": {
          "base_uri": "https://localhost:8080/"
        },
        "id": "OuuMpiI7yU_Z",
        "outputId": "7a47378c-f99a-4d87-ed38-01536f6b74f6"
      },
      "execution_count": 34,
      "outputs": [
        {
          "output_type": "execute_result",
          "data": {
            "text/plain": [
              "False"
            ]
          },
          "metadata": {},
          "execution_count": 34
        }
      ]
    },
    {
      "cell_type": "code",
      "source": [
        "t2_df = t2_df.drop_duplicates(subset = ['content'])\n",
        "print(t2_df.shape)"
      ],
      "metadata": {
        "colab": {
          "base_uri": "https://localhost:8080/"
        },
        "id": "ZxghaOycyXy5",
        "outputId": "35dab50d-77f1-48f7-fd1d-979d8a4db2b4"
      },
      "execution_count": 35,
      "outputs": [
        {
          "output_type": "stream",
          "name": "stdout",
          "text": [
            "(997, 4)\n"
          ]
        }
      ]
    },
    {
      "cell_type": "code",
      "source": [
        "def remove_timezone(dt):\n",
        "  return dt.replace(tzinfo = None)\n",
        "\n",
        "t2_df['date'] = pd.to_datetime(t2_df['date'])\n",
        "t2_df['date'] = t2_df['date'].apply(remove_timezone)\n",
        "\n",
        "t2_df['text'] = t2_df.content.apply(lambda x: re.sub(r'https?:\\/\\/\\S+', ' ', x))\n",
        "t2_df['text'] = t2_df.text.apply(lambda x: re.sub(r\"www\\.[a-z]?\\.?(com)+|[a-z]+\\.(com)\", ' ', x))\n",
        "t2_df['text'] = t2_df.text.apply(lambda x: re.sub(r\"\\b's\\b\", ' ', x))\n",
        "t2_df['text'] = t2_df.text.apply(lambda x: re.sub(r'{link}', ' ', x))\n",
        "t2_df['text'] = t2_df.text.apply(lambda x: re.sub(r\"\\[video\\]\", ' ', x))\n",
        "t2_df['text'] = t2_df.text.apply(lambda x: re.sub(r'&[a-z]+;', ' ', x))\n",
        "t2_df['text'] = t2_df.text.apply(lambda x: re.sub(r'\\s*@\\w+', ' ', x))\n",
        "t2_df['text'] = t2_df.text.apply(lambda x: re.sub(r'[^\\w]', ' ', x))\n",
        "t2_df['text'] = t2_df.text.apply(lambda x: re.sub(r'\\n', ' ', x))\n",
        "t2_df['text'] = t2_df.text.apply(lambda x: re.sub(r'[^a-zA-Z0-9]+', ' ', x))\n",
        "t2_df['text'] = t2_df.text.str.lower()\n",
        "\n",
        "t2_df['tokens'] = t2_df['content'].apply(tknzr.tokenize)\n",
        "\n",
        "t2_df.head()"
      ],
      "metadata": {
        "colab": {
          "base_uri": "https://localhost:8080/",
          "height": 424
        },
        "id": "NzjinLMzxmHk",
        "outputId": "64722d66-7497-4da4-d01d-5519cd6b247f"
      },
      "execution_count": 37,
      "outputs": [
        {
          "output_type": "execute_result",
          "data": {
            "text/plain": [
              "   Id                date                                            content  \\\n",
              "0   1 2020-04-29 23:59:53  Quarantine Day 11: The search for the perfect ...   \n",
              "1   2 2020-04-29 23:53:37  At the end of each night lately, I reflect on ...   \n",
              "2   3 2020-04-29 23:39:22  These things always make me happy to find. Wha...   \n",
              "3   4 2020-04-29 23:38:41  Two Week #Twitterdeal!!!???? \\n\\nOn April 11, ...   \n",
              "4   5 2020-04-29 23:31:43  \"Dance is the hidden language of the soul\"~~ M...   \n",
              "\n",
              "                                            hashtags  \\\n",
              "0  ['covid', 'covid19', 'coronavirus', 'quarantin...   \n",
              "1                          ['covid19', 'Quarantine']   \n",
              "2  ['corona', 'coronavirus', 'covid', 'covid19', ...   \n",
              "3  ['Twitterdeal', 'Self', 'Quarantine', 'COVID19...   \n",
              "4  ['Nature', 'Journey', 'Spring', 'ClimateChange...   \n",
              "\n",
              "                                                text  \\\n",
              "0  quarantine day 11 the search for the perfect n...   \n",
              "1  at the end of each night lately i reflect on h...   \n",
              "2  these things always make me happy to find what...   \n",
              "3  two week twitterdeal on april 11 us president ...   \n",
              "4   dance is the hidden language of the soul mart...   \n",
              "\n",
              "                                              tokens  \n",
              "0  [Quarantine, Day, 11, :, The, search, for, the...  \n",
              "1  [At, the, end, of, each, night, lately, ,, I, ...  \n",
              "2  [These, things, always, make, me, happy, to, f...  \n",
              "3  [Two, Week, #Twitterdeal, !, !, !, ?, ?, ?, On...  \n",
              "4  [\", Dance, is, the, hidden, language, of, the,...  "
            ],
            "text/html": [
              "\n",
              "  <div id=\"df-2ede4312-3fb8-4957-9f26-1bfdb7bfa711\">\n",
              "    <div class=\"colab-df-container\">\n",
              "      <div>\n",
              "<style scoped>\n",
              "    .dataframe tbody tr th:only-of-type {\n",
              "        vertical-align: middle;\n",
              "    }\n",
              "\n",
              "    .dataframe tbody tr th {\n",
              "        vertical-align: top;\n",
              "    }\n",
              "\n",
              "    .dataframe thead th {\n",
              "        text-align: right;\n",
              "    }\n",
              "</style>\n",
              "<table border=\"1\" class=\"dataframe\">\n",
              "  <thead>\n",
              "    <tr style=\"text-align: right;\">\n",
              "      <th></th>\n",
              "      <th>Id</th>\n",
              "      <th>date</th>\n",
              "      <th>content</th>\n",
              "      <th>hashtags</th>\n",
              "      <th>text</th>\n",
              "      <th>tokens</th>\n",
              "    </tr>\n",
              "  </thead>\n",
              "  <tbody>\n",
              "    <tr>\n",
              "      <th>0</th>\n",
              "      <td>1</td>\n",
              "      <td>2020-04-29 23:59:53</td>\n",
              "      <td>Quarantine Day 11: The search for the perfect ...</td>\n",
              "      <td>['covid', 'covid19', 'coronavirus', 'quarantin...</td>\n",
              "      <td>quarantine day 11 the search for the perfect n...</td>\n",
              "      <td>[Quarantine, Day, 11, :, The, search, for, the...</td>\n",
              "    </tr>\n",
              "    <tr>\n",
              "      <th>1</th>\n",
              "      <td>2</td>\n",
              "      <td>2020-04-29 23:53:37</td>\n",
              "      <td>At the end of each night lately, I reflect on ...</td>\n",
              "      <td>['covid19', 'Quarantine']</td>\n",
              "      <td>at the end of each night lately i reflect on h...</td>\n",
              "      <td>[At, the, end, of, each, night, lately, ,, I, ...</td>\n",
              "    </tr>\n",
              "    <tr>\n",
              "      <th>2</th>\n",
              "      <td>3</td>\n",
              "      <td>2020-04-29 23:39:22</td>\n",
              "      <td>These things always make me happy to find. Wha...</td>\n",
              "      <td>['corona', 'coronavirus', 'covid', 'covid19', ...</td>\n",
              "      <td>these things always make me happy to find what...</td>\n",
              "      <td>[These, things, always, make, me, happy, to, f...</td>\n",
              "    </tr>\n",
              "    <tr>\n",
              "      <th>3</th>\n",
              "      <td>4</td>\n",
              "      <td>2020-04-29 23:38:41</td>\n",
              "      <td>Two Week #Twitterdeal!!!???? \\n\\nOn April 11, ...</td>\n",
              "      <td>['Twitterdeal', 'Self', 'Quarantine', 'COVID19...</td>\n",
              "      <td>two week twitterdeal on april 11 us president ...</td>\n",
              "      <td>[Two, Week, #Twitterdeal, !, !, !, ?, ?, ?, On...</td>\n",
              "    </tr>\n",
              "    <tr>\n",
              "      <th>4</th>\n",
              "      <td>5</td>\n",
              "      <td>2020-04-29 23:31:43</td>\n",
              "      <td>\"Dance is the hidden language of the soul\"~~ M...</td>\n",
              "      <td>['Nature', 'Journey', 'Spring', 'ClimateChange...</td>\n",
              "      <td>dance is the hidden language of the soul mart...</td>\n",
              "      <td>[\", Dance, is, the, hidden, language, of, the,...</td>\n",
              "    </tr>\n",
              "  </tbody>\n",
              "</table>\n",
              "</div>\n",
              "      <button class=\"colab-df-convert\" onclick=\"convertToInteractive('df-2ede4312-3fb8-4957-9f26-1bfdb7bfa711')\"\n",
              "              title=\"Convert this dataframe to an interactive table.\"\n",
              "              style=\"display:none;\">\n",
              "        \n",
              "  <svg xmlns=\"http://www.w3.org/2000/svg\" height=\"24px\"viewBox=\"0 0 24 24\"\n",
              "       width=\"24px\">\n",
              "    <path d=\"M0 0h24v24H0V0z\" fill=\"none\"/>\n",
              "    <path d=\"M18.56 5.44l.94 2.06.94-2.06 2.06-.94-2.06-.94-.94-2.06-.94 2.06-2.06.94zm-11 1L8.5 8.5l.94-2.06 2.06-.94-2.06-.94L8.5 2.5l-.94 2.06-2.06.94zm10 10l.94 2.06.94-2.06 2.06-.94-2.06-.94-.94-2.06-.94 2.06-2.06.94z\"/><path d=\"M17.41 7.96l-1.37-1.37c-.4-.4-.92-.59-1.43-.59-.52 0-1.04.2-1.43.59L10.3 9.45l-7.72 7.72c-.78.78-.78 2.05 0 2.83L4 21.41c.39.39.9.59 1.41.59.51 0 1.02-.2 1.41-.59l7.78-7.78 2.81-2.81c.8-.78.8-2.07 0-2.86zM5.41 20L4 18.59l7.72-7.72 1.47 1.35L5.41 20z\"/>\n",
              "  </svg>\n",
              "      </button>\n",
              "      \n",
              "  <style>\n",
              "    .colab-df-container {\n",
              "      display:flex;\n",
              "      flex-wrap:wrap;\n",
              "      gap: 12px;\n",
              "    }\n",
              "\n",
              "    .colab-df-convert {\n",
              "      background-color: #E8F0FE;\n",
              "      border: none;\n",
              "      border-radius: 50%;\n",
              "      cursor: pointer;\n",
              "      display: none;\n",
              "      fill: #1967D2;\n",
              "      height: 32px;\n",
              "      padding: 0 0 0 0;\n",
              "      width: 32px;\n",
              "    }\n",
              "\n",
              "    .colab-df-convert:hover {\n",
              "      background-color: #E2EBFA;\n",
              "      box-shadow: 0px 1px 2px rgba(60, 64, 67, 0.3), 0px 1px 3px 1px rgba(60, 64, 67, 0.15);\n",
              "      fill: #174EA6;\n",
              "    }\n",
              "\n",
              "    [theme=dark] .colab-df-convert {\n",
              "      background-color: #3B4455;\n",
              "      fill: #D2E3FC;\n",
              "    }\n",
              "\n",
              "    [theme=dark] .colab-df-convert:hover {\n",
              "      background-color: #434B5C;\n",
              "      box-shadow: 0px 1px 3px 1px rgba(0, 0, 0, 0.15);\n",
              "      filter: drop-shadow(0px 1px 2px rgba(0, 0, 0, 0.3));\n",
              "      fill: #FFFFFF;\n",
              "    }\n",
              "  </style>\n",
              "\n",
              "      <script>\n",
              "        const buttonEl =\n",
              "          document.querySelector('#df-2ede4312-3fb8-4957-9f26-1bfdb7bfa711 button.colab-df-convert');\n",
              "        buttonEl.style.display =\n",
              "          google.colab.kernel.accessAllowed ? 'block' : 'none';\n",
              "\n",
              "        async function convertToInteractive(key) {\n",
              "          const element = document.querySelector('#df-2ede4312-3fb8-4957-9f26-1bfdb7bfa711');\n",
              "          const dataTable =\n",
              "            await google.colab.kernel.invokeFunction('convertToInteractive',\n",
              "                                                     [key], {});\n",
              "          if (!dataTable) return;\n",
              "\n",
              "          const docLinkHtml = 'Like what you see? Visit the ' +\n",
              "            '<a target=\"_blank\" href=https://colab.research.google.com/notebooks/data_table.ipynb>data table notebook</a>'\n",
              "            + ' to learn more about interactive tables.';\n",
              "          element.innerHTML = '';\n",
              "          dataTable['output_type'] = 'display_data';\n",
              "          await google.colab.output.renderOutput(dataTable, element);\n",
              "          const docLink = document.createElement('div');\n",
              "          docLink.innerHTML = docLinkHtml;\n",
              "          element.appendChild(docLink);\n",
              "        }\n",
              "      </script>\n",
              "    </div>\n",
              "  </div>\n",
              "  "
            ]
          },
          "metadata": {},
          "execution_count": 37
        }
      ]
    },
    {
      "cell_type": "code",
      "source": [
        "from keras.models import load_model\n",
        "\n",
        "def decode_prediction(pred):\n",
        "  return 'Negative' if pred < 0.5 else 'Positive'\n",
        "\n",
        "model = load_model('lstm_final.h5')\n",
        "\n",
        "with open('tokenizer.pickle', 'rb') as handle:\n",
        "  tokenizer = pickle.load(handle)\n",
        "\n",
        "tweet = t2_df['text']\n",
        "#max_length = max([len(s.split()) for s in tweet])\n",
        "#tokenize = keras.preprocessing.text.Tokenizer()\n",
        "#tokenize.fit_on_texts(tweet)\n",
        "\n",
        "tweet = pad_sequences(tokenizer.texts_to_sequences(tweet),\n",
        "                           maxlen = max_length)\n",
        "\n",
        "prediction = model.predict(tweet)\n",
        "#label = decode_prediction(prediction)\n",
        "label = np.apply_along_axis(decode_prediction, 1, prediction)\n",
        "\n",
        "Counter(label)"
      ],
      "metadata": {
        "colab": {
          "base_uri": "https://localhost:8080/"
        },
        "id": "dKo4h-TcxmBL",
        "outputId": "028fc839-3d03-4d54-b1c3-3c4c91a9cae1"
      },
      "execution_count": 38,
      "outputs": [
        {
          "output_type": "stream",
          "name": "stdout",
          "text": [
            "32/32 [==============================] - 0s 3ms/step\n"
          ]
        },
        {
          "output_type": "execute_result",
          "data": {
            "text/plain": [
              "Counter({'Negative': 393, 'Positive': 604})"
            ]
          },
          "metadata": {},
          "execution_count": 38
        }
      ]
    },
    {
      "cell_type": "markdown",
      "source": [
        "### Sentiment Analysis - Quantitative"
      ],
      "metadata": {
        "id": "zvJNj6x7zCbV"
      }
    },
    {
      "cell_type": "code",
      "source": [
        "t2_sent = pd.DataFrame({'Text': t2_df['text'], 'Score': prediction.flatten(), 'Label': label.flatten()})\n",
        "t2_sent.head()"
      ],
      "metadata": {
        "colab": {
          "base_uri": "https://localhost:8080/",
          "height": 206
        },
        "id": "BmVH_GLVxl-y",
        "outputId": "cf697c76-7eab-455e-a354-3b58f941560d"
      },
      "execution_count": 39,
      "outputs": [
        {
          "output_type": "execute_result",
          "data": {
            "text/plain": [
              "                                                Text     Score     Label\n",
              "0  quarantine day 11 the search for the perfect n...  0.497807  Negative\n",
              "1  at the end of each night lately i reflect on h...  0.090905  Negative\n",
              "2  these things always make me happy to find what...  0.851304  Positive\n",
              "3  two week twitterdeal on april 11 us president ...  0.172949  Negative\n",
              "4   dance is the hidden language of the soul mart...  0.813129  Positive"
            ],
            "text/html": [
              "\n",
              "  <div id=\"df-036ac614-1770-4678-a84e-08e00d3fa69c\">\n",
              "    <div class=\"colab-df-container\">\n",
              "      <div>\n",
              "<style scoped>\n",
              "    .dataframe tbody tr th:only-of-type {\n",
              "        vertical-align: middle;\n",
              "    }\n",
              "\n",
              "    .dataframe tbody tr th {\n",
              "        vertical-align: top;\n",
              "    }\n",
              "\n",
              "    .dataframe thead th {\n",
              "        text-align: right;\n",
              "    }\n",
              "</style>\n",
              "<table border=\"1\" class=\"dataframe\">\n",
              "  <thead>\n",
              "    <tr style=\"text-align: right;\">\n",
              "      <th></th>\n",
              "      <th>Text</th>\n",
              "      <th>Score</th>\n",
              "      <th>Label</th>\n",
              "    </tr>\n",
              "  </thead>\n",
              "  <tbody>\n",
              "    <tr>\n",
              "      <th>0</th>\n",
              "      <td>quarantine day 11 the search for the perfect n...</td>\n",
              "      <td>0.497807</td>\n",
              "      <td>Negative</td>\n",
              "    </tr>\n",
              "    <tr>\n",
              "      <th>1</th>\n",
              "      <td>at the end of each night lately i reflect on h...</td>\n",
              "      <td>0.090905</td>\n",
              "      <td>Negative</td>\n",
              "    </tr>\n",
              "    <tr>\n",
              "      <th>2</th>\n",
              "      <td>these things always make me happy to find what...</td>\n",
              "      <td>0.851304</td>\n",
              "      <td>Positive</td>\n",
              "    </tr>\n",
              "    <tr>\n",
              "      <th>3</th>\n",
              "      <td>two week twitterdeal on april 11 us president ...</td>\n",
              "      <td>0.172949</td>\n",
              "      <td>Negative</td>\n",
              "    </tr>\n",
              "    <tr>\n",
              "      <th>4</th>\n",
              "      <td>dance is the hidden language of the soul mart...</td>\n",
              "      <td>0.813129</td>\n",
              "      <td>Positive</td>\n",
              "    </tr>\n",
              "  </tbody>\n",
              "</table>\n",
              "</div>\n",
              "      <button class=\"colab-df-convert\" onclick=\"convertToInteractive('df-036ac614-1770-4678-a84e-08e00d3fa69c')\"\n",
              "              title=\"Convert this dataframe to an interactive table.\"\n",
              "              style=\"display:none;\">\n",
              "        \n",
              "  <svg xmlns=\"http://www.w3.org/2000/svg\" height=\"24px\"viewBox=\"0 0 24 24\"\n",
              "       width=\"24px\">\n",
              "    <path d=\"M0 0h24v24H0V0z\" fill=\"none\"/>\n",
              "    <path d=\"M18.56 5.44l.94 2.06.94-2.06 2.06-.94-2.06-.94-.94-2.06-.94 2.06-2.06.94zm-11 1L8.5 8.5l.94-2.06 2.06-.94-2.06-.94L8.5 2.5l-.94 2.06-2.06.94zm10 10l.94 2.06.94-2.06 2.06-.94-2.06-.94-.94-2.06-.94 2.06-2.06.94z\"/><path d=\"M17.41 7.96l-1.37-1.37c-.4-.4-.92-.59-1.43-.59-.52 0-1.04.2-1.43.59L10.3 9.45l-7.72 7.72c-.78.78-.78 2.05 0 2.83L4 21.41c.39.39.9.59 1.41.59.51 0 1.02-.2 1.41-.59l7.78-7.78 2.81-2.81c.8-.78.8-2.07 0-2.86zM5.41 20L4 18.59l7.72-7.72 1.47 1.35L5.41 20z\"/>\n",
              "  </svg>\n",
              "      </button>\n",
              "      \n",
              "  <style>\n",
              "    .colab-df-container {\n",
              "      display:flex;\n",
              "      flex-wrap:wrap;\n",
              "      gap: 12px;\n",
              "    }\n",
              "\n",
              "    .colab-df-convert {\n",
              "      background-color: #E8F0FE;\n",
              "      border: none;\n",
              "      border-radius: 50%;\n",
              "      cursor: pointer;\n",
              "      display: none;\n",
              "      fill: #1967D2;\n",
              "      height: 32px;\n",
              "      padding: 0 0 0 0;\n",
              "      width: 32px;\n",
              "    }\n",
              "\n",
              "    .colab-df-convert:hover {\n",
              "      background-color: #E2EBFA;\n",
              "      box-shadow: 0px 1px 2px rgba(60, 64, 67, 0.3), 0px 1px 3px 1px rgba(60, 64, 67, 0.15);\n",
              "      fill: #174EA6;\n",
              "    }\n",
              "\n",
              "    [theme=dark] .colab-df-convert {\n",
              "      background-color: #3B4455;\n",
              "      fill: #D2E3FC;\n",
              "    }\n",
              "\n",
              "    [theme=dark] .colab-df-convert:hover {\n",
              "      background-color: #434B5C;\n",
              "      box-shadow: 0px 1px 3px 1px rgba(0, 0, 0, 0.15);\n",
              "      filter: drop-shadow(0px 1px 2px rgba(0, 0, 0, 0.3));\n",
              "      fill: #FFFFFF;\n",
              "    }\n",
              "  </style>\n",
              "\n",
              "      <script>\n",
              "        const buttonEl =\n",
              "          document.querySelector('#df-036ac614-1770-4678-a84e-08e00d3fa69c button.colab-df-convert');\n",
              "        buttonEl.style.display =\n",
              "          google.colab.kernel.accessAllowed ? 'block' : 'none';\n",
              "\n",
              "        async function convertToInteractive(key) {\n",
              "          const element = document.querySelector('#df-036ac614-1770-4678-a84e-08e00d3fa69c');\n",
              "          const dataTable =\n",
              "            await google.colab.kernel.invokeFunction('convertToInteractive',\n",
              "                                                     [key], {});\n",
              "          if (!dataTable) return;\n",
              "\n",
              "          const docLinkHtml = 'Like what you see? Visit the ' +\n",
              "            '<a target=\"_blank\" href=https://colab.research.google.com/notebooks/data_table.ipynb>data table notebook</a>'\n",
              "            + ' to learn more about interactive tables.';\n",
              "          element.innerHTML = '';\n",
              "          dataTable['output_type'] = 'display_data';\n",
              "          await google.colab.output.renderOutput(dataTable, element);\n",
              "          const docLink = document.createElement('div');\n",
              "          docLink.innerHTML = docLinkHtml;\n",
              "          element.appendChild(docLink);\n",
              "        }\n",
              "      </script>\n",
              "    </div>\n",
              "  </div>\n",
              "  "
            ]
          },
          "metadata": {},
          "execution_count": 39
        }
      ]
    },
    {
      "cell_type": "code",
      "source": [
        "positiveTweets_t2 = t2_sent[t2_sent.Label == 'Positive']\n",
        "positiveTweets_t2_pct = round((positiveTweets_t2.shape[0]/t2_sent.shape[0])*100, 1)\n",
        "print(f'Percentage of Positive Tweets is {positiveTweets_t2_pct}')\n",
        "\n",
        "negativeTweets_t2 = t2_sent[t2_sent.Label == 'Negative']\n",
        "negativeTweets_t2_pct = round((negativeTweets_t2.shape[0]/t2_sent.shape[0])*100, 1)\n",
        "print(f'Percentage of Negative Tweets is {negativeTweets_t2_pct}')"
      ],
      "metadata": {
        "colab": {
          "base_uri": "https://localhost:8080/"
        },
        "id": "lUGnjjWsxl8g",
        "outputId": "0aca792e-4288-4a03-8bf8-c7acdcc20cd4"
      },
      "execution_count": 40,
      "outputs": [
        {
          "output_type": "stream",
          "name": "stdout",
          "text": [
            "Percentage of Positive Tweets is 60.6\n",
            "Percentage of Negative Tweets is 39.4\n"
          ]
        }
      ]
    },
    {
      "cell_type": "markdown",
      "source": [
        "## Timeframe 3 (May 2020)"
      ],
      "metadata": {
        "id": "c81R9BXdzqYo"
      }
    },
    {
      "cell_type": "code",
      "source": [
        "# file directory change as needed\n",
        "# downloaded csv file in google drive\n",
        "\n",
        "t3_df = pd.read_csv('gdrive/My Drive/Colab Notebooks/Social_Paper3/t3_csv.csv')\n",
        "t3_df = t3_df.drop(['Unnamed: 0', 'id'], axis = 1)\n",
        "t3_df['Id'] = range(1, len(t3_df) + 1)\n",
        "first_column = t3_df.pop('Id')\n",
        "t3_df.insert(0, 'Id', first_column)"
      ],
      "metadata": {
        "id": "Rk6gx1JRxl1a"
      },
      "execution_count": 45,
      "outputs": []
    },
    {
      "cell_type": "code",
      "source": [
        "t3_df.content.is_unique"
      ],
      "metadata": {
        "colab": {
          "base_uri": "https://localhost:8080/"
        },
        "id": "R_FeB0qVxlxD",
        "outputId": "b353ec13-e2ba-4c0d-8453-a90b40fcb309"
      },
      "execution_count": 46,
      "outputs": [
        {
          "output_type": "execute_result",
          "data": {
            "text/plain": [
              "False"
            ]
          },
          "metadata": {},
          "execution_count": 46
        }
      ]
    },
    {
      "cell_type": "code",
      "source": [
        "t3_df = t3_df.drop_duplicates(subset = ['content'])\n",
        "print(t3_df.shape)"
      ],
      "metadata": {
        "colab": {
          "base_uri": "https://localhost:8080/"
        },
        "id": "HQcig7ZSxlul",
        "outputId": "baa8f24a-6959-4f5e-83a2-81028d068c69"
      },
      "execution_count": 47,
      "outputs": [
        {
          "output_type": "stream",
          "name": "stdout",
          "text": [
            "(995, 4)\n"
          ]
        }
      ]
    },
    {
      "cell_type": "code",
      "source": [
        "def remove_timezone(dt):\n",
        "  return dt.replace(tzinfo = None)\n",
        "\n",
        "t3_df['date'] = pd.to_datetime(t3_df['date'])\n",
        "t3_df['date'] = t3_df['date'].apply(remove_timezone)\n",
        "\n",
        "t3_df['text'] = t3_df.content.apply(lambda x: re.sub(r'https?:\\/\\/\\S+', ' ', x))\n",
        "t3_df['text'] = t3_df.text.apply(lambda x: re.sub(r\"www\\.[a-z]?\\.?(com)+|[a-z]+\\.(com)\", ' ', x))\n",
        "t3_df['text'] = t3_df.text.apply(lambda x: re.sub(r\"\\b's\\b\", ' ', x))\n",
        "t3_df['text'] = t3_df.text.apply(lambda x: re.sub(r'{link}', ' ', x))\n",
        "t3_df['text'] = t3_df.text.apply(lambda x: re.sub(r\"\\[video\\]\", ' ', x))\n",
        "t3_df['text'] = t3_df.text.apply(lambda x: re.sub(r'&[a-z]+;', ' ', x))\n",
        "t3_df['text'] = t3_df.text.apply(lambda x: re.sub(r'\\s*@\\w+', ' ', x))\n",
        "t3_df['text'] = t3_df.text.apply(lambda x: re.sub(r'[^\\w]', ' ', x))\n",
        "t3_df['text'] = t3_df.text.apply(lambda x: re.sub(r'\\n', ' ', x))\n",
        "t3_df['text'] = t3_df.text.apply(lambda x: re.sub(r'[^a-zA-Z0-9]+', ' ', x))\n",
        "t3_df['text'] = t3_df.text.str.lower()\n",
        "\n",
        "t3_df['tokens'] = t3_df['content'].apply(tknzr.tokenize)\n",
        "\n",
        "t3_df.head()"
      ],
      "metadata": {
        "colab": {
          "base_uri": "https://localhost:8080/",
          "height": 424
        },
        "id": "tqnKuDyTxlsZ",
        "outputId": "e26b4fc0-93f0-4da4-a4c9-1e76961d3004"
      },
      "execution_count": 48,
      "outputs": [
        {
          "output_type": "execute_result",
          "data": {
            "text/plain": [
              "   Id                date                                            content  \\\n",
              "0   1 2020-05-30 23:53:34  Do you think the #COVID19 lockdown will cause ...   \n",
              "1   2 2020-05-30 23:50:02  Here's what employers can and can't do when th...   \n",
              "2   3 2020-05-30 23:36:04  🌸✋🌼😷💮👐🌸😷🌼✋💮\\n#facemasks #facemasks4all\\n#gifts...   \n",
              "3   4 2020-05-30 23:30:09  How 'Cognitive' Tech Can Prevent a Food Crisis...   \n",
              "4   5 2020-05-30 23:24:21  @HamiltonAnthony talks #quarantine &amp; keepi...   \n",
              "\n",
              "                                            hashtags  \\\n",
              "0                          ['COVID19', 'Quarantine']   \n",
              "1  ['pandemictech', 'CoronaVirus', 'CoronaVirusOu...   \n",
              "2  ['facemasks', 'facemasks4all', 'gifts', 'shopp...   \n",
              "3  ['pandemictech', 'CoronaVirus', 'CoronaVirusOu...   \n",
              "4  ['quarantine', 'follow', 'facebook', 'instagra...   \n",
              "\n",
              "                                                text  \\\n",
              "0  do you think the covid19 lockdown will cause i...   \n",
              "1  here what employers can and can t do when they...   \n",
              "2   facemasks facemasks4all gifts shoppingonline ...   \n",
              "3  how cognitive tech can prevent a food crisis p...   \n",
              "4   talks quarantine keeping business going follo...   \n",
              "\n",
              "                                              tokens  \n",
              "0  [Do, you, think, the, #COVID19, lockdown, will...  \n",
              "1  [Here's, what, employers, can, and, can't, do,...  \n",
              "2  [🌸, ✋, 🌼, 😷, 💮, 👐, 🌸, 😷, 🌼, ✋, 💮, #facemasks, ...  \n",
              "3  [How, ', Cognitive, ', Tech, Can, Prevent, a, ...  \n",
              "4  [@HamiltonAnthony, talks, #quarantine, &, keep...  "
            ],
            "text/html": [
              "\n",
              "  <div id=\"df-6f2ea3d8-70fe-45a0-a494-7b91eda77481\">\n",
              "    <div class=\"colab-df-container\">\n",
              "      <div>\n",
              "<style scoped>\n",
              "    .dataframe tbody tr th:only-of-type {\n",
              "        vertical-align: middle;\n",
              "    }\n",
              "\n",
              "    .dataframe tbody tr th {\n",
              "        vertical-align: top;\n",
              "    }\n",
              "\n",
              "    .dataframe thead th {\n",
              "        text-align: right;\n",
              "    }\n",
              "</style>\n",
              "<table border=\"1\" class=\"dataframe\">\n",
              "  <thead>\n",
              "    <tr style=\"text-align: right;\">\n",
              "      <th></th>\n",
              "      <th>Id</th>\n",
              "      <th>date</th>\n",
              "      <th>content</th>\n",
              "      <th>hashtags</th>\n",
              "      <th>text</th>\n",
              "      <th>tokens</th>\n",
              "    </tr>\n",
              "  </thead>\n",
              "  <tbody>\n",
              "    <tr>\n",
              "      <th>0</th>\n",
              "      <td>1</td>\n",
              "      <td>2020-05-30 23:53:34</td>\n",
              "      <td>Do you think the #COVID19 lockdown will cause ...</td>\n",
              "      <td>['COVID19', 'Quarantine']</td>\n",
              "      <td>do you think the covid19 lockdown will cause i...</td>\n",
              "      <td>[Do, you, think, the, #COVID19, lockdown, will...</td>\n",
              "    </tr>\n",
              "    <tr>\n",
              "      <th>1</th>\n",
              "      <td>2</td>\n",
              "      <td>2020-05-30 23:50:02</td>\n",
              "      <td>Here's what employers can and can't do when th...</td>\n",
              "      <td>['pandemictech', 'CoronaVirus', 'CoronaVirusOu...</td>\n",
              "      <td>here what employers can and can t do when they...</td>\n",
              "      <td>[Here's, what, employers, can, and, can't, do,...</td>\n",
              "    </tr>\n",
              "    <tr>\n",
              "      <th>2</th>\n",
              "      <td>3</td>\n",
              "      <td>2020-05-30 23:36:04</td>\n",
              "      <td>🌸✋🌼😷💮👐🌸😷🌼✋💮\\n#facemasks #facemasks4all\\n#gifts...</td>\n",
              "      <td>['facemasks', 'facemasks4all', 'gifts', 'shopp...</td>\n",
              "      <td>facemasks facemasks4all gifts shoppingonline ...</td>\n",
              "      <td>[🌸, ✋, 🌼, 😷, 💮, 👐, 🌸, 😷, 🌼, ✋, 💮, #facemasks, ...</td>\n",
              "    </tr>\n",
              "    <tr>\n",
              "      <th>3</th>\n",
              "      <td>4</td>\n",
              "      <td>2020-05-30 23:30:09</td>\n",
              "      <td>How 'Cognitive' Tech Can Prevent a Food Crisis...</td>\n",
              "      <td>['pandemictech', 'CoronaVirus', 'CoronaVirusOu...</td>\n",
              "      <td>how cognitive tech can prevent a food crisis p...</td>\n",
              "      <td>[How, ', Cognitive, ', Tech, Can, Prevent, a, ...</td>\n",
              "    </tr>\n",
              "    <tr>\n",
              "      <th>4</th>\n",
              "      <td>5</td>\n",
              "      <td>2020-05-30 23:24:21</td>\n",
              "      <td>@HamiltonAnthony talks #quarantine &amp;amp; keepi...</td>\n",
              "      <td>['quarantine', 'follow', 'facebook', 'instagra...</td>\n",
              "      <td>talks quarantine keeping business going follo...</td>\n",
              "      <td>[@HamiltonAnthony, talks, #quarantine, &amp;, keep...</td>\n",
              "    </tr>\n",
              "  </tbody>\n",
              "</table>\n",
              "</div>\n",
              "      <button class=\"colab-df-convert\" onclick=\"convertToInteractive('df-6f2ea3d8-70fe-45a0-a494-7b91eda77481')\"\n",
              "              title=\"Convert this dataframe to an interactive table.\"\n",
              "              style=\"display:none;\">\n",
              "        \n",
              "  <svg xmlns=\"http://www.w3.org/2000/svg\" height=\"24px\"viewBox=\"0 0 24 24\"\n",
              "       width=\"24px\">\n",
              "    <path d=\"M0 0h24v24H0V0z\" fill=\"none\"/>\n",
              "    <path d=\"M18.56 5.44l.94 2.06.94-2.06 2.06-.94-2.06-.94-.94-2.06-.94 2.06-2.06.94zm-11 1L8.5 8.5l.94-2.06 2.06-.94-2.06-.94L8.5 2.5l-.94 2.06-2.06.94zm10 10l.94 2.06.94-2.06 2.06-.94-2.06-.94-.94-2.06-.94 2.06-2.06.94z\"/><path d=\"M17.41 7.96l-1.37-1.37c-.4-.4-.92-.59-1.43-.59-.52 0-1.04.2-1.43.59L10.3 9.45l-7.72 7.72c-.78.78-.78 2.05 0 2.83L4 21.41c.39.39.9.59 1.41.59.51 0 1.02-.2 1.41-.59l7.78-7.78 2.81-2.81c.8-.78.8-2.07 0-2.86zM5.41 20L4 18.59l7.72-7.72 1.47 1.35L5.41 20z\"/>\n",
              "  </svg>\n",
              "      </button>\n",
              "      \n",
              "  <style>\n",
              "    .colab-df-container {\n",
              "      display:flex;\n",
              "      flex-wrap:wrap;\n",
              "      gap: 12px;\n",
              "    }\n",
              "\n",
              "    .colab-df-convert {\n",
              "      background-color: #E8F0FE;\n",
              "      border: none;\n",
              "      border-radius: 50%;\n",
              "      cursor: pointer;\n",
              "      display: none;\n",
              "      fill: #1967D2;\n",
              "      height: 32px;\n",
              "      padding: 0 0 0 0;\n",
              "      width: 32px;\n",
              "    }\n",
              "\n",
              "    .colab-df-convert:hover {\n",
              "      background-color: #E2EBFA;\n",
              "      box-shadow: 0px 1px 2px rgba(60, 64, 67, 0.3), 0px 1px 3px 1px rgba(60, 64, 67, 0.15);\n",
              "      fill: #174EA6;\n",
              "    }\n",
              "\n",
              "    [theme=dark] .colab-df-convert {\n",
              "      background-color: #3B4455;\n",
              "      fill: #D2E3FC;\n",
              "    }\n",
              "\n",
              "    [theme=dark] .colab-df-convert:hover {\n",
              "      background-color: #434B5C;\n",
              "      box-shadow: 0px 1px 3px 1px rgba(0, 0, 0, 0.15);\n",
              "      filter: drop-shadow(0px 1px 2px rgba(0, 0, 0, 0.3));\n",
              "      fill: #FFFFFF;\n",
              "    }\n",
              "  </style>\n",
              "\n",
              "      <script>\n",
              "        const buttonEl =\n",
              "          document.querySelector('#df-6f2ea3d8-70fe-45a0-a494-7b91eda77481 button.colab-df-convert');\n",
              "        buttonEl.style.display =\n",
              "          google.colab.kernel.accessAllowed ? 'block' : 'none';\n",
              "\n",
              "        async function convertToInteractive(key) {\n",
              "          const element = document.querySelector('#df-6f2ea3d8-70fe-45a0-a494-7b91eda77481');\n",
              "          const dataTable =\n",
              "            await google.colab.kernel.invokeFunction('convertToInteractive',\n",
              "                                                     [key], {});\n",
              "          if (!dataTable) return;\n",
              "\n",
              "          const docLinkHtml = 'Like what you see? Visit the ' +\n",
              "            '<a target=\"_blank\" href=https://colab.research.google.com/notebooks/data_table.ipynb>data table notebook</a>'\n",
              "            + ' to learn more about interactive tables.';\n",
              "          element.innerHTML = '';\n",
              "          dataTable['output_type'] = 'display_data';\n",
              "          await google.colab.output.renderOutput(dataTable, element);\n",
              "          const docLink = document.createElement('div');\n",
              "          docLink.innerHTML = docLinkHtml;\n",
              "          element.appendChild(docLink);\n",
              "        }\n",
              "      </script>\n",
              "    </div>\n",
              "  </div>\n",
              "  "
            ]
          },
          "metadata": {},
          "execution_count": 48
        }
      ]
    },
    {
      "cell_type": "code",
      "source": [
        "from keras.models import load_model\n",
        "\n",
        "def decode_prediction(pred):\n",
        "  return 'Negative' if pred < 0.5 else 'Positive'\n",
        "\n",
        "model = load_model('lstm_final.h5')\n",
        "\n",
        "with open('tokenizer.pickle', 'rb') as handle:\n",
        "  tokenizer = pickle.load(handle)\n",
        "\n",
        "tweet = t3_df['text']\n",
        "#max_length = max([len(s.split()) for s in tweet])\n",
        "#tokenize = keras.preprocessing.text.Tokenizer()\n",
        "#tokenize.fit_on_texts(tweet)\n",
        "\n",
        "tweet = pad_sequences(tokenizer.texts_to_sequences(tweet),\n",
        "                           maxlen = max_length)\n",
        "\n",
        "prediction = model.predict(tweet)\n",
        "#label = decode_prediction(prediction)\n",
        "label = np.apply_along_axis(decode_prediction, 1, prediction)\n",
        "\n",
        "Counter(label)"
      ],
      "metadata": {
        "colab": {
          "base_uri": "https://localhost:8080/"
        },
        "id": "N8YW8Infxlp9",
        "outputId": "96fd133d-2c72-4a31-b03b-ae8a9c2b2254"
      },
      "execution_count": 49,
      "outputs": [
        {
          "output_type": "stream",
          "name": "stdout",
          "text": [
            "32/32 [==============================] - 0s 4ms/step\n"
          ]
        },
        {
          "output_type": "execute_result",
          "data": {
            "text/plain": [
              "Counter({'Positive': 588, 'Negative': 407})"
            ]
          },
          "metadata": {},
          "execution_count": 49
        }
      ]
    },
    {
      "cell_type": "markdown",
      "source": [
        "### Sentiment Analysis - Quantitative"
      ],
      "metadata": {
        "id": "2SxMLJ3m2dGj"
      }
    },
    {
      "cell_type": "code",
      "source": [
        "t3_sent = pd.DataFrame({'Text': t3_df['text'], 'Score': prediction.flatten(), 'Label': label.flatten()})\n",
        "t3_sent.head()"
      ],
      "metadata": {
        "colab": {
          "base_uri": "https://localhost:8080/",
          "height": 206
        },
        "id": "yzuRbLeFxlld",
        "outputId": "bf460efd-597b-43b0-88e6-cf60ddeab28e"
      },
      "execution_count": 50,
      "outputs": [
        {
          "output_type": "execute_result",
          "data": {
            "text/plain": [
              "                                                Text     Score     Label\n",
              "0  do you think the covid19 lockdown will cause i...  0.645823  Positive\n",
              "1  here what employers can and can t do when they...  0.254739  Negative\n",
              "2   facemasks facemasks4all gifts shoppingonline ...  0.651301  Positive\n",
              "3  how cognitive tech can prevent a food crisis p...  0.348412  Negative\n",
              "4   talks quarantine keeping business going follo...  0.998838  Positive"
            ],
            "text/html": [
              "\n",
              "  <div id=\"df-c812141f-8226-4ddd-b7bb-79946c39f2f4\">\n",
              "    <div class=\"colab-df-container\">\n",
              "      <div>\n",
              "<style scoped>\n",
              "    .dataframe tbody tr th:only-of-type {\n",
              "        vertical-align: middle;\n",
              "    }\n",
              "\n",
              "    .dataframe tbody tr th {\n",
              "        vertical-align: top;\n",
              "    }\n",
              "\n",
              "    .dataframe thead th {\n",
              "        text-align: right;\n",
              "    }\n",
              "</style>\n",
              "<table border=\"1\" class=\"dataframe\">\n",
              "  <thead>\n",
              "    <tr style=\"text-align: right;\">\n",
              "      <th></th>\n",
              "      <th>Text</th>\n",
              "      <th>Score</th>\n",
              "      <th>Label</th>\n",
              "    </tr>\n",
              "  </thead>\n",
              "  <tbody>\n",
              "    <tr>\n",
              "      <th>0</th>\n",
              "      <td>do you think the covid19 lockdown will cause i...</td>\n",
              "      <td>0.645823</td>\n",
              "      <td>Positive</td>\n",
              "    </tr>\n",
              "    <tr>\n",
              "      <th>1</th>\n",
              "      <td>here what employers can and can t do when they...</td>\n",
              "      <td>0.254739</td>\n",
              "      <td>Negative</td>\n",
              "    </tr>\n",
              "    <tr>\n",
              "      <th>2</th>\n",
              "      <td>facemasks facemasks4all gifts shoppingonline ...</td>\n",
              "      <td>0.651301</td>\n",
              "      <td>Positive</td>\n",
              "    </tr>\n",
              "    <tr>\n",
              "      <th>3</th>\n",
              "      <td>how cognitive tech can prevent a food crisis p...</td>\n",
              "      <td>0.348412</td>\n",
              "      <td>Negative</td>\n",
              "    </tr>\n",
              "    <tr>\n",
              "      <th>4</th>\n",
              "      <td>talks quarantine keeping business going follo...</td>\n",
              "      <td>0.998838</td>\n",
              "      <td>Positive</td>\n",
              "    </tr>\n",
              "  </tbody>\n",
              "</table>\n",
              "</div>\n",
              "      <button class=\"colab-df-convert\" onclick=\"convertToInteractive('df-c812141f-8226-4ddd-b7bb-79946c39f2f4')\"\n",
              "              title=\"Convert this dataframe to an interactive table.\"\n",
              "              style=\"display:none;\">\n",
              "        \n",
              "  <svg xmlns=\"http://www.w3.org/2000/svg\" height=\"24px\"viewBox=\"0 0 24 24\"\n",
              "       width=\"24px\">\n",
              "    <path d=\"M0 0h24v24H0V0z\" fill=\"none\"/>\n",
              "    <path d=\"M18.56 5.44l.94 2.06.94-2.06 2.06-.94-2.06-.94-.94-2.06-.94 2.06-2.06.94zm-11 1L8.5 8.5l.94-2.06 2.06-.94-2.06-.94L8.5 2.5l-.94 2.06-2.06.94zm10 10l.94 2.06.94-2.06 2.06-.94-2.06-.94-.94-2.06-.94 2.06-2.06.94z\"/><path d=\"M17.41 7.96l-1.37-1.37c-.4-.4-.92-.59-1.43-.59-.52 0-1.04.2-1.43.59L10.3 9.45l-7.72 7.72c-.78.78-.78 2.05 0 2.83L4 21.41c.39.39.9.59 1.41.59.51 0 1.02-.2 1.41-.59l7.78-7.78 2.81-2.81c.8-.78.8-2.07 0-2.86zM5.41 20L4 18.59l7.72-7.72 1.47 1.35L5.41 20z\"/>\n",
              "  </svg>\n",
              "      </button>\n",
              "      \n",
              "  <style>\n",
              "    .colab-df-container {\n",
              "      display:flex;\n",
              "      flex-wrap:wrap;\n",
              "      gap: 12px;\n",
              "    }\n",
              "\n",
              "    .colab-df-convert {\n",
              "      background-color: #E8F0FE;\n",
              "      border: none;\n",
              "      border-radius: 50%;\n",
              "      cursor: pointer;\n",
              "      display: none;\n",
              "      fill: #1967D2;\n",
              "      height: 32px;\n",
              "      padding: 0 0 0 0;\n",
              "      width: 32px;\n",
              "    }\n",
              "\n",
              "    .colab-df-convert:hover {\n",
              "      background-color: #E2EBFA;\n",
              "      box-shadow: 0px 1px 2px rgba(60, 64, 67, 0.3), 0px 1px 3px 1px rgba(60, 64, 67, 0.15);\n",
              "      fill: #174EA6;\n",
              "    }\n",
              "\n",
              "    [theme=dark] .colab-df-convert {\n",
              "      background-color: #3B4455;\n",
              "      fill: #D2E3FC;\n",
              "    }\n",
              "\n",
              "    [theme=dark] .colab-df-convert:hover {\n",
              "      background-color: #434B5C;\n",
              "      box-shadow: 0px 1px 3px 1px rgba(0, 0, 0, 0.15);\n",
              "      filter: drop-shadow(0px 1px 2px rgba(0, 0, 0, 0.3));\n",
              "      fill: #FFFFFF;\n",
              "    }\n",
              "  </style>\n",
              "\n",
              "      <script>\n",
              "        const buttonEl =\n",
              "          document.querySelector('#df-c812141f-8226-4ddd-b7bb-79946c39f2f4 button.colab-df-convert');\n",
              "        buttonEl.style.display =\n",
              "          google.colab.kernel.accessAllowed ? 'block' : 'none';\n",
              "\n",
              "        async function convertToInteractive(key) {\n",
              "          const element = document.querySelector('#df-c812141f-8226-4ddd-b7bb-79946c39f2f4');\n",
              "          const dataTable =\n",
              "            await google.colab.kernel.invokeFunction('convertToInteractive',\n",
              "                                                     [key], {});\n",
              "          if (!dataTable) return;\n",
              "\n",
              "          const docLinkHtml = 'Like what you see? Visit the ' +\n",
              "            '<a target=\"_blank\" href=https://colab.research.google.com/notebooks/data_table.ipynb>data table notebook</a>'\n",
              "            + ' to learn more about interactive tables.';\n",
              "          element.innerHTML = '';\n",
              "          dataTable['output_type'] = 'display_data';\n",
              "          await google.colab.output.renderOutput(dataTable, element);\n",
              "          const docLink = document.createElement('div');\n",
              "          docLink.innerHTML = docLinkHtml;\n",
              "          element.appendChild(docLink);\n",
              "        }\n",
              "      </script>\n",
              "    </div>\n",
              "  </div>\n",
              "  "
            ]
          },
          "metadata": {},
          "execution_count": 50
        }
      ]
    },
    {
      "cell_type": "code",
      "source": [
        "positiveTweets_t3 = t3_sent[t3_sent.Label == 'Positive']\n",
        "positiveTweets_t3_pct = round((positiveTweets_t3.shape[0]/t3_sent.shape[0])*100, 1)\n",
        "print(f'Percentage of Positive Tweets is {positiveTweets_t3_pct}')\n",
        "\n",
        "negativeTweets_t3 = t3_sent[t3_sent.Label == 'Negative']\n",
        "negativeTweets_t3_pct = round((negativeTweets_t3.shape[0]/t3_sent.shape[0])*100, 1)\n",
        "print(f'Percentage of Negative Tweets is {negativeTweets_t3_pct}')"
      ],
      "metadata": {
        "colab": {
          "base_uri": "https://localhost:8080/"
        },
        "id": "BJeinG8axljF",
        "outputId": "e5546973-e120-4c88-b5c0-3ba8cf2dccf0"
      },
      "execution_count": 51,
      "outputs": [
        {
          "output_type": "stream",
          "name": "stdout",
          "text": [
            "Percentage of Positive Tweets is 59.1\n",
            "Percentage of Negative Tweets is 40.9\n"
          ]
        }
      ]
    },
    {
      "cell_type": "markdown",
      "source": [
        "## Timeframe 4 (June 2020)"
      ],
      "metadata": {
        "id": "z3un0TYb20vr"
      }
    },
    {
      "cell_type": "code",
      "source": [
        "# file directory change as needed\n",
        "# downloaded csv file in google drive\n",
        "\n",
        "t4_df = pd.read_csv('gdrive/My Drive/Colab Notebooks/Social_Paper3/t4_csv.csv')\n",
        "t4_df = t4_df.drop(['Unnamed: 0', 'id'], axis = 1)\n",
        "t4_df['Id'] = range(1, len(t4_df) + 1)\n",
        "first_column = t4_df.pop('Id')\n",
        "t4_df.insert(0, 'Id', first_column)"
      ],
      "metadata": {
        "id": "LKvhq_TqxlcR"
      },
      "execution_count": 55,
      "outputs": []
    },
    {
      "cell_type": "code",
      "source": [
        "t4_df.content.is_unique"
      ],
      "metadata": {
        "colab": {
          "base_uri": "https://localhost:8080/"
        },
        "id": "bpcPSUX5xlaZ",
        "outputId": "227c4c85-06d5-41e5-eff9-124b84038853"
      },
      "execution_count": 56,
      "outputs": [
        {
          "output_type": "execute_result",
          "data": {
            "text/plain": [
              "False"
            ]
          },
          "metadata": {},
          "execution_count": 56
        }
      ]
    },
    {
      "cell_type": "code",
      "source": [
        "t4_df = t4_df.drop_duplicates(subset = ['content'])\n",
        "print(t4_df.shape)"
      ],
      "metadata": {
        "colab": {
          "base_uri": "https://localhost:8080/"
        },
        "id": "YxyqDeZV3Ljf",
        "outputId": "fcd9ba96-f7ef-4bc3-9d17-3dfb7db3e83d"
      },
      "execution_count": 57,
      "outputs": [
        {
          "output_type": "stream",
          "name": "stdout",
          "text": [
            "(997, 4)\n"
          ]
        }
      ]
    },
    {
      "cell_type": "code",
      "source": [
        "def remove_timezone(dt):\n",
        "  return dt.replace(tzinfo = None)\n",
        "\n",
        "t4_df['date'] = pd.to_datetime(t4_df['date'])\n",
        "t4_df['date'] = t4_df['date'].apply(remove_timezone)\n",
        "\n",
        "t4_df['text'] = t4_df.content.apply(lambda x: re.sub(r'https?:\\/\\/\\S+', ' ', x))\n",
        "t4_df['text'] = t4_df.text.apply(lambda x: re.sub(r\"www\\.[a-z]?\\.?(com)+|[a-z]+\\.(com)\", ' ', x))\n",
        "t4_df['text'] = t4_df.text.apply(lambda x: re.sub(r\"\\b's\\b\", ' ', x))\n",
        "t4_df['text'] = t4_df.text.apply(lambda x: re.sub(r'{link}', ' ', x))\n",
        "t4_df['text'] = t4_df.text.apply(lambda x: re.sub(r\"\\[video\\]\", ' ', x))\n",
        "t4_df['text'] = t4_df.text.apply(lambda x: re.sub(r'&[a-z]+;', ' ', x))\n",
        "t4_df['text'] = t4_df.text.apply(lambda x: re.sub(r'\\s*@\\w+', ' ', x))\n",
        "t4_df['text'] = t4_df.text.apply(lambda x: re.sub(r'[^\\w]', ' ', x))\n",
        "t4_df['text'] = t4_df.text.apply(lambda x: re.sub(r'\\n', ' ', x))\n",
        "t4_df['text'] = t4_df.text.apply(lambda x: re.sub(r'[^a-zA-Z0-9]+', ' ', x))\n",
        "t4_df['text'] = t4_df.text.str.lower()\n",
        "\n",
        "t4_df['tokens'] = t4_df['content'].apply(tknzr.tokenize)\n",
        "\n",
        "t4_df.head()"
      ],
      "metadata": {
        "colab": {
          "base_uri": "https://localhost:8080/",
          "height": 424
        },
        "id": "195Qbki3xlYB",
        "outputId": "ff91a574-f11e-4d5d-9f14-25370a4d4c0f"
      },
      "execution_count": 58,
      "outputs": [
        {
          "output_type": "execute_result",
          "data": {
            "text/plain": [
              "   Id                date                                            content  \\\n",
              "0   1 2020-06-29 23:57:10  UK Will Not Require Visitors From Low-Risk Cou...   \n",
              "1   2 2020-06-29 23:44:39  A sharp decline over the weekend of #COVID19 c...   \n",
              "2   3 2020-06-29 23:22:00  The Last #Mask...😷...(🔊⬆️)\\n•\\n#family #MaskUp...   \n",
              "3   4 2020-06-29 23:04:05  🌸✋🌼😷💮👐🌸😷🌼✋💮\\n#facemasks #facemasks4all\\n#gifts...   \n",
              "4   5 2020-06-29 22:50:52  New 😷Face Masks😷 On Deck‼️ Come Check Us Out! ...   \n",
              "\n",
              "                                            hashtags  \\\n",
              "0                ['quarantine', 'COVID19', 'travel']   \n",
              "1  ['COVID19', 'Ukraine', 'coronavirus', 'quarant...   \n",
              "2  ['Mask', 'family', 'MaskUp', 'comedy', 'skit',...   \n",
              "3  ['facemasks', 'facemasks4all', 'gifts', 'shopp...   \n",
              "4  ['Reason', 'FaceMask', 'Covid19', 'Corona', 'q...   \n",
              "\n",
              "                                                text  \\\n",
              "0  uk will not require visitors from low risk cou...   \n",
              "1  a sharp decline over the weekend of covid19 ca...   \n",
              "2  the last mask family maskup comedy skit brothe...   \n",
              "3   facemasks facemasks4all gifts shoppingonline ...   \n",
              "4  new face masks on deck come check us out reaso...   \n",
              "\n",
              "                                              tokens  \n",
              "0  [UK, Will, Not, Require, Visitors, From, Low-R...  \n",
              "1  [A, sharp, decline, over, the, weekend, of, #C...  \n",
              "2  [The, Last, #Mask, ..., 😷, ..., (, 🔊, ⬆, ️, ),...  \n",
              "3  [🌸, ✋, 🌼, 😷, 💮, 👐, 🌸, 😷, 🌼, ✋, 💮, #facemasks, ...  \n",
              "4  [New, 😷, Face, Masks, 😷, On, Deck, ‼, ️, Come,...  "
            ],
            "text/html": [
              "\n",
              "  <div id=\"df-36771b4e-bc31-4112-ab5a-40196292ab51\">\n",
              "    <div class=\"colab-df-container\">\n",
              "      <div>\n",
              "<style scoped>\n",
              "    .dataframe tbody tr th:only-of-type {\n",
              "        vertical-align: middle;\n",
              "    }\n",
              "\n",
              "    .dataframe tbody tr th {\n",
              "        vertical-align: top;\n",
              "    }\n",
              "\n",
              "    .dataframe thead th {\n",
              "        text-align: right;\n",
              "    }\n",
              "</style>\n",
              "<table border=\"1\" class=\"dataframe\">\n",
              "  <thead>\n",
              "    <tr style=\"text-align: right;\">\n",
              "      <th></th>\n",
              "      <th>Id</th>\n",
              "      <th>date</th>\n",
              "      <th>content</th>\n",
              "      <th>hashtags</th>\n",
              "      <th>text</th>\n",
              "      <th>tokens</th>\n",
              "    </tr>\n",
              "  </thead>\n",
              "  <tbody>\n",
              "    <tr>\n",
              "      <th>0</th>\n",
              "      <td>1</td>\n",
              "      <td>2020-06-29 23:57:10</td>\n",
              "      <td>UK Will Not Require Visitors From Low-Risk Cou...</td>\n",
              "      <td>['quarantine', 'COVID19', 'travel']</td>\n",
              "      <td>uk will not require visitors from low risk cou...</td>\n",
              "      <td>[UK, Will, Not, Require, Visitors, From, Low-R...</td>\n",
              "    </tr>\n",
              "    <tr>\n",
              "      <th>1</th>\n",
              "      <td>2</td>\n",
              "      <td>2020-06-29 23:44:39</td>\n",
              "      <td>A sharp decline over the weekend of #COVID19 c...</td>\n",
              "      <td>['COVID19', 'Ukraine', 'coronavirus', 'quarant...</td>\n",
              "      <td>a sharp decline over the weekend of covid19 ca...</td>\n",
              "      <td>[A, sharp, decline, over, the, weekend, of, #C...</td>\n",
              "    </tr>\n",
              "    <tr>\n",
              "      <th>2</th>\n",
              "      <td>3</td>\n",
              "      <td>2020-06-29 23:22:00</td>\n",
              "      <td>The Last #Mask...😷...(🔊⬆️)\\n•\\n#family #MaskUp...</td>\n",
              "      <td>['Mask', 'family', 'MaskUp', 'comedy', 'skit',...</td>\n",
              "      <td>the last mask family maskup comedy skit brothe...</td>\n",
              "      <td>[The, Last, #Mask, ..., 😷, ..., (, 🔊, ⬆, ️, ),...</td>\n",
              "    </tr>\n",
              "    <tr>\n",
              "      <th>3</th>\n",
              "      <td>4</td>\n",
              "      <td>2020-06-29 23:04:05</td>\n",
              "      <td>🌸✋🌼😷💮👐🌸😷🌼✋💮\\n#facemasks #facemasks4all\\n#gifts...</td>\n",
              "      <td>['facemasks', 'facemasks4all', 'gifts', 'shopp...</td>\n",
              "      <td>facemasks facemasks4all gifts shoppingonline ...</td>\n",
              "      <td>[🌸, ✋, 🌼, 😷, 💮, 👐, 🌸, 😷, 🌼, ✋, 💮, #facemasks, ...</td>\n",
              "    </tr>\n",
              "    <tr>\n",
              "      <th>4</th>\n",
              "      <td>5</td>\n",
              "      <td>2020-06-29 22:50:52</td>\n",
              "      <td>New 😷Face Masks😷 On Deck‼️ Come Check Us Out! ...</td>\n",
              "      <td>['Reason', 'FaceMask', 'Covid19', 'Corona', 'q...</td>\n",
              "      <td>new face masks on deck come check us out reaso...</td>\n",
              "      <td>[New, 😷, Face, Masks, 😷, On, Deck, ‼, ️, Come,...</td>\n",
              "    </tr>\n",
              "  </tbody>\n",
              "</table>\n",
              "</div>\n",
              "      <button class=\"colab-df-convert\" onclick=\"convertToInteractive('df-36771b4e-bc31-4112-ab5a-40196292ab51')\"\n",
              "              title=\"Convert this dataframe to an interactive table.\"\n",
              "              style=\"display:none;\">\n",
              "        \n",
              "  <svg xmlns=\"http://www.w3.org/2000/svg\" height=\"24px\"viewBox=\"0 0 24 24\"\n",
              "       width=\"24px\">\n",
              "    <path d=\"M0 0h24v24H0V0z\" fill=\"none\"/>\n",
              "    <path d=\"M18.56 5.44l.94 2.06.94-2.06 2.06-.94-2.06-.94-.94-2.06-.94 2.06-2.06.94zm-11 1L8.5 8.5l.94-2.06 2.06-.94-2.06-.94L8.5 2.5l-.94 2.06-2.06.94zm10 10l.94 2.06.94-2.06 2.06-.94-2.06-.94-.94-2.06-.94 2.06-2.06.94z\"/><path d=\"M17.41 7.96l-1.37-1.37c-.4-.4-.92-.59-1.43-.59-.52 0-1.04.2-1.43.59L10.3 9.45l-7.72 7.72c-.78.78-.78 2.05 0 2.83L4 21.41c.39.39.9.59 1.41.59.51 0 1.02-.2 1.41-.59l7.78-7.78 2.81-2.81c.8-.78.8-2.07 0-2.86zM5.41 20L4 18.59l7.72-7.72 1.47 1.35L5.41 20z\"/>\n",
              "  </svg>\n",
              "      </button>\n",
              "      \n",
              "  <style>\n",
              "    .colab-df-container {\n",
              "      display:flex;\n",
              "      flex-wrap:wrap;\n",
              "      gap: 12px;\n",
              "    }\n",
              "\n",
              "    .colab-df-convert {\n",
              "      background-color: #E8F0FE;\n",
              "      border: none;\n",
              "      border-radius: 50%;\n",
              "      cursor: pointer;\n",
              "      display: none;\n",
              "      fill: #1967D2;\n",
              "      height: 32px;\n",
              "      padding: 0 0 0 0;\n",
              "      width: 32px;\n",
              "    }\n",
              "\n",
              "    .colab-df-convert:hover {\n",
              "      background-color: #E2EBFA;\n",
              "      box-shadow: 0px 1px 2px rgba(60, 64, 67, 0.3), 0px 1px 3px 1px rgba(60, 64, 67, 0.15);\n",
              "      fill: #174EA6;\n",
              "    }\n",
              "\n",
              "    [theme=dark] .colab-df-convert {\n",
              "      background-color: #3B4455;\n",
              "      fill: #D2E3FC;\n",
              "    }\n",
              "\n",
              "    [theme=dark] .colab-df-convert:hover {\n",
              "      background-color: #434B5C;\n",
              "      box-shadow: 0px 1px 3px 1px rgba(0, 0, 0, 0.15);\n",
              "      filter: drop-shadow(0px 1px 2px rgba(0, 0, 0, 0.3));\n",
              "      fill: #FFFFFF;\n",
              "    }\n",
              "  </style>\n",
              "\n",
              "      <script>\n",
              "        const buttonEl =\n",
              "          document.querySelector('#df-36771b4e-bc31-4112-ab5a-40196292ab51 button.colab-df-convert');\n",
              "        buttonEl.style.display =\n",
              "          google.colab.kernel.accessAllowed ? 'block' : 'none';\n",
              "\n",
              "        async function convertToInteractive(key) {\n",
              "          const element = document.querySelector('#df-36771b4e-bc31-4112-ab5a-40196292ab51');\n",
              "          const dataTable =\n",
              "            await google.colab.kernel.invokeFunction('convertToInteractive',\n",
              "                                                     [key], {});\n",
              "          if (!dataTable) return;\n",
              "\n",
              "          const docLinkHtml = 'Like what you see? Visit the ' +\n",
              "            '<a target=\"_blank\" href=https://colab.research.google.com/notebooks/data_table.ipynb>data table notebook</a>'\n",
              "            + ' to learn more about interactive tables.';\n",
              "          element.innerHTML = '';\n",
              "          dataTable['output_type'] = 'display_data';\n",
              "          await google.colab.output.renderOutput(dataTable, element);\n",
              "          const docLink = document.createElement('div');\n",
              "          docLink.innerHTML = docLinkHtml;\n",
              "          element.appendChild(docLink);\n",
              "        }\n",
              "      </script>\n",
              "    </div>\n",
              "  </div>\n",
              "  "
            ]
          },
          "metadata": {},
          "execution_count": 58
        }
      ]
    },
    {
      "cell_type": "code",
      "source": [
        "from keras.models import load_model\n",
        "\n",
        "def decode_prediction(pred):\n",
        "  return 'Negative' if pred < 0.5 else 'Positive'\n",
        "\n",
        "model = load_model('lstm_final.h5')\n",
        "\n",
        "with open('tokenizer.pickle', 'rb') as handle:\n",
        "  tokenizer = pickle.load(handle)\n",
        "\n",
        "tweet = t4_df['text']\n",
        "#max_length = max([len(s.split()) for s in tweet])\n",
        "#tokenize = keras.preprocessing.text.Tokenizer()\n",
        "#tokenize.fit_on_texts(tweet)\n",
        "\n",
        "tweet = pad_sequences(tokenizer.texts_to_sequences(tweet),\n",
        "                           maxlen = max_length)\n",
        "\n",
        "prediction = model.predict(tweet)\n",
        "#label = decode_prediction(prediction)\n",
        "label = np.apply_along_axis(decode_prediction, 1, prediction)\n",
        "\n",
        "Counter(label)"
      ],
      "metadata": {
        "colab": {
          "base_uri": "https://localhost:8080/"
        },
        "id": "ePYrAoo1xlWE",
        "outputId": "6462bdc1-0ab9-4377-83c3-3ae75223df25"
      },
      "execution_count": 59,
      "outputs": [
        {
          "output_type": "stream",
          "name": "stdout",
          "text": [
            "32/32 [==============================] - 1s 4ms/step\n"
          ]
        },
        {
          "output_type": "execute_result",
          "data": {
            "text/plain": [
              "Counter({'Negative': 415, 'Positive': 582})"
            ]
          },
          "metadata": {},
          "execution_count": 59
        }
      ]
    },
    {
      "cell_type": "markdown",
      "source": [
        "### Sentiment Analysis - Quantitative"
      ],
      "metadata": {
        "id": "A9bSLyCt3XBS"
      }
    },
    {
      "cell_type": "code",
      "source": [
        "t4_sent = pd.DataFrame({'Text': t4_df['text'], 'Score': prediction.flatten(), 'Label': label.flatten()})\n",
        "t4_sent.head()"
      ],
      "metadata": {
        "colab": {
          "base_uri": "https://localhost:8080/",
          "height": 206
        },
        "id": "-WVJAQc3xlUJ",
        "outputId": "60fb6710-7b66-4b8d-ed3a-d98e253d016a"
      },
      "execution_count": 60,
      "outputs": [
        {
          "output_type": "execute_result",
          "data": {
            "text/plain": [
              "                                                Text     Score     Label\n",
              "0  uk will not require visitors from low risk cou...  0.094860  Negative\n",
              "1  a sharp decline over the weekend of covid19 ca...  0.084482  Negative\n",
              "2  the last mask family maskup comedy skit brothe...  0.958392  Positive\n",
              "3   facemasks facemasks4all gifts shoppingonline ...  0.651301  Positive\n",
              "4  new face masks on deck come check us out reaso...  0.940881  Positive"
            ],
            "text/html": [
              "\n",
              "  <div id=\"df-093a6fd0-a333-4cb7-a64e-5ddbf81a2cc7\">\n",
              "    <div class=\"colab-df-container\">\n",
              "      <div>\n",
              "<style scoped>\n",
              "    .dataframe tbody tr th:only-of-type {\n",
              "        vertical-align: middle;\n",
              "    }\n",
              "\n",
              "    .dataframe tbody tr th {\n",
              "        vertical-align: top;\n",
              "    }\n",
              "\n",
              "    .dataframe thead th {\n",
              "        text-align: right;\n",
              "    }\n",
              "</style>\n",
              "<table border=\"1\" class=\"dataframe\">\n",
              "  <thead>\n",
              "    <tr style=\"text-align: right;\">\n",
              "      <th></th>\n",
              "      <th>Text</th>\n",
              "      <th>Score</th>\n",
              "      <th>Label</th>\n",
              "    </tr>\n",
              "  </thead>\n",
              "  <tbody>\n",
              "    <tr>\n",
              "      <th>0</th>\n",
              "      <td>uk will not require visitors from low risk cou...</td>\n",
              "      <td>0.094860</td>\n",
              "      <td>Negative</td>\n",
              "    </tr>\n",
              "    <tr>\n",
              "      <th>1</th>\n",
              "      <td>a sharp decline over the weekend of covid19 ca...</td>\n",
              "      <td>0.084482</td>\n",
              "      <td>Negative</td>\n",
              "    </tr>\n",
              "    <tr>\n",
              "      <th>2</th>\n",
              "      <td>the last mask family maskup comedy skit brothe...</td>\n",
              "      <td>0.958392</td>\n",
              "      <td>Positive</td>\n",
              "    </tr>\n",
              "    <tr>\n",
              "      <th>3</th>\n",
              "      <td>facemasks facemasks4all gifts shoppingonline ...</td>\n",
              "      <td>0.651301</td>\n",
              "      <td>Positive</td>\n",
              "    </tr>\n",
              "    <tr>\n",
              "      <th>4</th>\n",
              "      <td>new face masks on deck come check us out reaso...</td>\n",
              "      <td>0.940881</td>\n",
              "      <td>Positive</td>\n",
              "    </tr>\n",
              "  </tbody>\n",
              "</table>\n",
              "</div>\n",
              "      <button class=\"colab-df-convert\" onclick=\"convertToInteractive('df-093a6fd0-a333-4cb7-a64e-5ddbf81a2cc7')\"\n",
              "              title=\"Convert this dataframe to an interactive table.\"\n",
              "              style=\"display:none;\">\n",
              "        \n",
              "  <svg xmlns=\"http://www.w3.org/2000/svg\" height=\"24px\"viewBox=\"0 0 24 24\"\n",
              "       width=\"24px\">\n",
              "    <path d=\"M0 0h24v24H0V0z\" fill=\"none\"/>\n",
              "    <path d=\"M18.56 5.44l.94 2.06.94-2.06 2.06-.94-2.06-.94-.94-2.06-.94 2.06-2.06.94zm-11 1L8.5 8.5l.94-2.06 2.06-.94-2.06-.94L8.5 2.5l-.94 2.06-2.06.94zm10 10l.94 2.06.94-2.06 2.06-.94-2.06-.94-.94-2.06-.94 2.06-2.06.94z\"/><path d=\"M17.41 7.96l-1.37-1.37c-.4-.4-.92-.59-1.43-.59-.52 0-1.04.2-1.43.59L10.3 9.45l-7.72 7.72c-.78.78-.78 2.05 0 2.83L4 21.41c.39.39.9.59 1.41.59.51 0 1.02-.2 1.41-.59l7.78-7.78 2.81-2.81c.8-.78.8-2.07 0-2.86zM5.41 20L4 18.59l7.72-7.72 1.47 1.35L5.41 20z\"/>\n",
              "  </svg>\n",
              "      </button>\n",
              "      \n",
              "  <style>\n",
              "    .colab-df-container {\n",
              "      display:flex;\n",
              "      flex-wrap:wrap;\n",
              "      gap: 12px;\n",
              "    }\n",
              "\n",
              "    .colab-df-convert {\n",
              "      background-color: #E8F0FE;\n",
              "      border: none;\n",
              "      border-radius: 50%;\n",
              "      cursor: pointer;\n",
              "      display: none;\n",
              "      fill: #1967D2;\n",
              "      height: 32px;\n",
              "      padding: 0 0 0 0;\n",
              "      width: 32px;\n",
              "    }\n",
              "\n",
              "    .colab-df-convert:hover {\n",
              "      background-color: #E2EBFA;\n",
              "      box-shadow: 0px 1px 2px rgba(60, 64, 67, 0.3), 0px 1px 3px 1px rgba(60, 64, 67, 0.15);\n",
              "      fill: #174EA6;\n",
              "    }\n",
              "\n",
              "    [theme=dark] .colab-df-convert {\n",
              "      background-color: #3B4455;\n",
              "      fill: #D2E3FC;\n",
              "    }\n",
              "\n",
              "    [theme=dark] .colab-df-convert:hover {\n",
              "      background-color: #434B5C;\n",
              "      box-shadow: 0px 1px 3px 1px rgba(0, 0, 0, 0.15);\n",
              "      filter: drop-shadow(0px 1px 2px rgba(0, 0, 0, 0.3));\n",
              "      fill: #FFFFFF;\n",
              "    }\n",
              "  </style>\n",
              "\n",
              "      <script>\n",
              "        const buttonEl =\n",
              "          document.querySelector('#df-093a6fd0-a333-4cb7-a64e-5ddbf81a2cc7 button.colab-df-convert');\n",
              "        buttonEl.style.display =\n",
              "          google.colab.kernel.accessAllowed ? 'block' : 'none';\n",
              "\n",
              "        async function convertToInteractive(key) {\n",
              "          const element = document.querySelector('#df-093a6fd0-a333-4cb7-a64e-5ddbf81a2cc7');\n",
              "          const dataTable =\n",
              "            await google.colab.kernel.invokeFunction('convertToInteractive',\n",
              "                                                     [key], {});\n",
              "          if (!dataTable) return;\n",
              "\n",
              "          const docLinkHtml = 'Like what you see? Visit the ' +\n",
              "            '<a target=\"_blank\" href=https://colab.research.google.com/notebooks/data_table.ipynb>data table notebook</a>'\n",
              "            + ' to learn more about interactive tables.';\n",
              "          element.innerHTML = '';\n",
              "          dataTable['output_type'] = 'display_data';\n",
              "          await google.colab.output.renderOutput(dataTable, element);\n",
              "          const docLink = document.createElement('div');\n",
              "          docLink.innerHTML = docLinkHtml;\n",
              "          element.appendChild(docLink);\n",
              "        }\n",
              "      </script>\n",
              "    </div>\n",
              "  </div>\n",
              "  "
            ]
          },
          "metadata": {},
          "execution_count": 60
        }
      ]
    },
    {
      "cell_type": "code",
      "source": [
        "positiveTweets_t4 = t4_sent[t4_sent.Label == 'Positive']\n",
        "positiveTweets_t4_pct = round((positiveTweets_t4.shape[0]/t4_sent.shape[0])*100, 1)\n",
        "print(f'Percentage of Positive Tweets is {positiveTweets_t4_pct}')\n",
        "\n",
        "negativeTweets_t4 = t4_sent[t4_sent.Label == 'Negative']\n",
        "negativeTweets_t4_pct = round((negativeTweets_t4.shape[0]/t4_sent.shape[0])*100, 1)\n",
        "print(f'Percentage of Negative Tweets is {negativeTweets_t4_pct}')"
      ],
      "metadata": {
        "colab": {
          "base_uri": "https://localhost:8080/"
        },
        "id": "VXf4guGUxlSA",
        "outputId": "4b642417-cf1a-4d47-fc68-33fbf006a954"
      },
      "execution_count": 61,
      "outputs": [
        {
          "output_type": "stream",
          "name": "stdout",
          "text": [
            "Percentage of Positive Tweets is 58.4\n",
            "Percentage of Negative Tweets is 41.6\n"
          ]
        }
      ]
    },
    {
      "cell_type": "markdown",
      "source": [
        "## Timeframe 5 (July 2020)"
      ],
      "metadata": {
        "id": "IcAgeUZM3v2_"
      }
    },
    {
      "cell_type": "code",
      "source": [
        "# file directory change as needed\n",
        "# downloaded csv file in google drive\n",
        "\n",
        "t5_df = pd.read_csv('gdrive/My Drive/Colab Notebooks/Social_Paper3/t5_csv.csv')\n",
        "t5_df = t5_df.drop(['Unnamed: 0', 'id'], axis = 1)\n",
        "t5_df['Id'] = range(1, len(t5_df) + 1)\n",
        "first_column = t5_df.pop('Id')\n",
        "t5_df.insert(0, 'Id', first_column)"
      ],
      "metadata": {
        "id": "8j5OlQJdxlLJ"
      },
      "execution_count": 65,
      "outputs": []
    },
    {
      "cell_type": "code",
      "source": [
        "t5_df.content.is_unique"
      ],
      "metadata": {
        "colab": {
          "base_uri": "https://localhost:8080/"
        },
        "id": "F42bxnNbxlIz",
        "outputId": "3f9cf794-e361-43f5-ba4d-c630119b102a"
      },
      "execution_count": 66,
      "outputs": [
        {
          "output_type": "execute_result",
          "data": {
            "text/plain": [
              "False"
            ]
          },
          "metadata": {},
          "execution_count": 66
        }
      ]
    },
    {
      "cell_type": "code",
      "source": [
        "t5_df = t5_df.drop_duplicates(subset = ['content'])\n",
        "print(t5_df.shape)"
      ],
      "metadata": {
        "colab": {
          "base_uri": "https://localhost:8080/"
        },
        "id": "i7sqNyQ0xlEY",
        "outputId": "6548194c-9fd4-454e-f2b8-0b1756e985db"
      },
      "execution_count": 67,
      "outputs": [
        {
          "output_type": "stream",
          "name": "stdout",
          "text": [
            "(983, 4)\n"
          ]
        }
      ]
    },
    {
      "cell_type": "code",
      "source": [
        "def remove_timezone(dt):\n",
        "  return dt.replace(tzinfo = None)\n",
        "\n",
        "t5_df['date'] = pd.to_datetime(t5_df['date'])\n",
        "t5_df['date'] = t5_df['date'].apply(remove_timezone)\n",
        "\n",
        "t5_df['text'] = t5_df.content.apply(lambda x: re.sub(r'https?:\\/\\/\\S+', ' ', x))\n",
        "t5_df['text'] = t5_df.text.apply(lambda x: re.sub(r\"www\\.[a-z]?\\.?(com)+|[a-z]+\\.(com)\", ' ', x))\n",
        "t5_df['text'] = t5_df.text.apply(lambda x: re.sub(r\"\\b's\\b\", ' ', x))\n",
        "t5_df['text'] = t5_df.text.apply(lambda x: re.sub(r'{link}', ' ', x))\n",
        "t5_df['text'] = t5_df.text.apply(lambda x: re.sub(r\"\\[video\\]\", ' ', x))\n",
        "t5_df['text'] = t5_df.text.apply(lambda x: re.sub(r'&[a-z]+;', ' ', x))\n",
        "t5_df['text'] = t5_df.text.apply(lambda x: re.sub(r'\\s*@\\w+', ' ', x))\n",
        "t5_df['text'] = t5_df.text.apply(lambda x: re.sub(r'[^\\w]', ' ', x))\n",
        "t5_df['text'] = t5_df.text.apply(lambda x: re.sub(r'\\n', ' ', x))\n",
        "t5_df['text'] = t5_df.text.apply(lambda x: re.sub(r'[^a-zA-Z0-9]+', ' ', x))\n",
        "t5_df['text'] = t5_df.text.str.lower()\n",
        "\n",
        "t5_df['tokens'] = t5_df['content'].apply(tknzr.tokenize)\n",
        "\n",
        "t5_df.head()"
      ],
      "metadata": {
        "colab": {
          "base_uri": "https://localhost:8080/",
          "height": 424
        },
        "id": "0EPSXaDrxlCg",
        "outputId": "73226644-6ffc-47be-82c2-86f994ed532c"
      },
      "execution_count": 68,
      "outputs": [
        {
          "output_type": "execute_result",
          "data": {
            "text/plain": [
              "   Id                date                                            content  \\\n",
              "0   1 2020-07-30 23:30:09  Early in pandemic, frantic doctors traded tips...   \n",
              "1   2 2020-07-30 23:07:17  Post shower curlycues at my nape. Very odd qua...   \n",
              "2   3 2020-07-30 23:06:27  Some people smoke Weed... I drink Wine 🤷🏽‍♀️ #...   \n",
              "3   4 2020-07-30 22:52:05  🌸✋🌼😷💮👐🌸😷🌼✋💮\\n#facemasks #facemasks4all\\n#gifts...   \n",
              "4   5 2020-07-30 22:41:24  Florida pair arrested for breaking COVID-19 qu...   \n",
              "\n",
              "                                            hashtags  \\\n",
              "0  ['CoronaVirus', 'CoronaVirusOutbreak', 'COVID2...   \n",
              "1  ['curlycues', 'rona', 'quarantine', 'covid19',...   \n",
              "2  ['Lockdown2020', 'COVID19', 'Quarantine', 'Wha...   \n",
              "3  ['facemasks', 'facemasks4all', 'gifts', 'shopp...   \n",
              "4  ['coronavirus', 'arrested', 'breaking', 'covid...   \n",
              "\n",
              "                                                text  \\\n",
              "0  early in pandemic frantic doctors traded tips ...   \n",
              "1  post shower curlycues at my nape very odd quar...   \n",
              "2  some people smoke weed i drink wine lockdown20...   \n",
              "3   facemasks facemasks4all gifts shoppingonline ...   \n",
              "4  florida pair arrested for breaking covid 19 qu...   \n",
              "\n",
              "                                              tokens  \n",
              "0  [Early, in, pandemic, ,, frantic, doctors, tra...  \n",
              "1  [Post, shower, curlycues, at, my, nape, ., Ver...  \n",
              "2  [Some, people, smoke, Weed, ..., I, drink, Win...  \n",
              "3  [🌸, ✋, 🌼, 😷, 💮, 👐, 🌸, 😷, 🌼, ✋, 💮, #facemasks, ...  \n",
              "4  [Florida, pair, arrested, for, breaking, COVID...  "
            ],
            "text/html": [
              "\n",
              "  <div id=\"df-3fc63ef3-0dd4-4671-acbd-4e3b0c695c60\">\n",
              "    <div class=\"colab-df-container\">\n",
              "      <div>\n",
              "<style scoped>\n",
              "    .dataframe tbody tr th:only-of-type {\n",
              "        vertical-align: middle;\n",
              "    }\n",
              "\n",
              "    .dataframe tbody tr th {\n",
              "        vertical-align: top;\n",
              "    }\n",
              "\n",
              "    .dataframe thead th {\n",
              "        text-align: right;\n",
              "    }\n",
              "</style>\n",
              "<table border=\"1\" class=\"dataframe\">\n",
              "  <thead>\n",
              "    <tr style=\"text-align: right;\">\n",
              "      <th></th>\n",
              "      <th>Id</th>\n",
              "      <th>date</th>\n",
              "      <th>content</th>\n",
              "      <th>hashtags</th>\n",
              "      <th>text</th>\n",
              "      <th>tokens</th>\n",
              "    </tr>\n",
              "  </thead>\n",
              "  <tbody>\n",
              "    <tr>\n",
              "      <th>0</th>\n",
              "      <td>1</td>\n",
              "      <td>2020-07-30 23:30:09</td>\n",
              "      <td>Early in pandemic, frantic doctors traded tips...</td>\n",
              "      <td>['CoronaVirus', 'CoronaVirusOutbreak', 'COVID2...</td>\n",
              "      <td>early in pandemic frantic doctors traded tips ...</td>\n",
              "      <td>[Early, in, pandemic, ,, frantic, doctors, tra...</td>\n",
              "    </tr>\n",
              "    <tr>\n",
              "      <th>1</th>\n",
              "      <td>2</td>\n",
              "      <td>2020-07-30 23:07:17</td>\n",
              "      <td>Post shower curlycues at my nape. Very odd qua...</td>\n",
              "      <td>['curlycues', 'rona', 'quarantine', 'covid19',...</td>\n",
              "      <td>post shower curlycues at my nape very odd quar...</td>\n",
              "      <td>[Post, shower, curlycues, at, my, nape, ., Ver...</td>\n",
              "    </tr>\n",
              "    <tr>\n",
              "      <th>2</th>\n",
              "      <td>3</td>\n",
              "      <td>2020-07-30 23:06:27</td>\n",
              "      <td>Some people smoke Weed... I drink Wine 🤷🏽‍♀️ #...</td>\n",
              "      <td>['Lockdown2020', 'COVID19', 'Quarantine', 'Wha...</td>\n",
              "      <td>some people smoke weed i drink wine lockdown20...</td>\n",
              "      <td>[Some, people, smoke, Weed, ..., I, drink, Win...</td>\n",
              "    </tr>\n",
              "    <tr>\n",
              "      <th>3</th>\n",
              "      <td>4</td>\n",
              "      <td>2020-07-30 22:52:05</td>\n",
              "      <td>🌸✋🌼😷💮👐🌸😷🌼✋💮\\n#facemasks #facemasks4all\\n#gifts...</td>\n",
              "      <td>['facemasks', 'facemasks4all', 'gifts', 'shopp...</td>\n",
              "      <td>facemasks facemasks4all gifts shoppingonline ...</td>\n",
              "      <td>[🌸, ✋, 🌼, 😷, 💮, 👐, 🌸, 😷, 🌼, ✋, 💮, #facemasks, ...</td>\n",
              "    </tr>\n",
              "    <tr>\n",
              "      <th>4</th>\n",
              "      <td>5</td>\n",
              "      <td>2020-07-30 22:41:24</td>\n",
              "      <td>Florida pair arrested for breaking COVID-19 qu...</td>\n",
              "      <td>['coronavirus', 'arrested', 'breaking', 'covid...</td>\n",
              "      <td>florida pair arrested for breaking covid 19 qu...</td>\n",
              "      <td>[Florida, pair, arrested, for, breaking, COVID...</td>\n",
              "    </tr>\n",
              "  </tbody>\n",
              "</table>\n",
              "</div>\n",
              "      <button class=\"colab-df-convert\" onclick=\"convertToInteractive('df-3fc63ef3-0dd4-4671-acbd-4e3b0c695c60')\"\n",
              "              title=\"Convert this dataframe to an interactive table.\"\n",
              "              style=\"display:none;\">\n",
              "        \n",
              "  <svg xmlns=\"http://www.w3.org/2000/svg\" height=\"24px\"viewBox=\"0 0 24 24\"\n",
              "       width=\"24px\">\n",
              "    <path d=\"M0 0h24v24H0V0z\" fill=\"none\"/>\n",
              "    <path d=\"M18.56 5.44l.94 2.06.94-2.06 2.06-.94-2.06-.94-.94-2.06-.94 2.06-2.06.94zm-11 1L8.5 8.5l.94-2.06 2.06-.94-2.06-.94L8.5 2.5l-.94 2.06-2.06.94zm10 10l.94 2.06.94-2.06 2.06-.94-2.06-.94-.94-2.06-.94 2.06-2.06.94z\"/><path d=\"M17.41 7.96l-1.37-1.37c-.4-.4-.92-.59-1.43-.59-.52 0-1.04.2-1.43.59L10.3 9.45l-7.72 7.72c-.78.78-.78 2.05 0 2.83L4 21.41c.39.39.9.59 1.41.59.51 0 1.02-.2 1.41-.59l7.78-7.78 2.81-2.81c.8-.78.8-2.07 0-2.86zM5.41 20L4 18.59l7.72-7.72 1.47 1.35L5.41 20z\"/>\n",
              "  </svg>\n",
              "      </button>\n",
              "      \n",
              "  <style>\n",
              "    .colab-df-container {\n",
              "      display:flex;\n",
              "      flex-wrap:wrap;\n",
              "      gap: 12px;\n",
              "    }\n",
              "\n",
              "    .colab-df-convert {\n",
              "      background-color: #E8F0FE;\n",
              "      border: none;\n",
              "      border-radius: 50%;\n",
              "      cursor: pointer;\n",
              "      display: none;\n",
              "      fill: #1967D2;\n",
              "      height: 32px;\n",
              "      padding: 0 0 0 0;\n",
              "      width: 32px;\n",
              "    }\n",
              "\n",
              "    .colab-df-convert:hover {\n",
              "      background-color: #E2EBFA;\n",
              "      box-shadow: 0px 1px 2px rgba(60, 64, 67, 0.3), 0px 1px 3px 1px rgba(60, 64, 67, 0.15);\n",
              "      fill: #174EA6;\n",
              "    }\n",
              "\n",
              "    [theme=dark] .colab-df-convert {\n",
              "      background-color: #3B4455;\n",
              "      fill: #D2E3FC;\n",
              "    }\n",
              "\n",
              "    [theme=dark] .colab-df-convert:hover {\n",
              "      background-color: #434B5C;\n",
              "      box-shadow: 0px 1px 3px 1px rgba(0, 0, 0, 0.15);\n",
              "      filter: drop-shadow(0px 1px 2px rgba(0, 0, 0, 0.3));\n",
              "      fill: #FFFFFF;\n",
              "    }\n",
              "  </style>\n",
              "\n",
              "      <script>\n",
              "        const buttonEl =\n",
              "          document.querySelector('#df-3fc63ef3-0dd4-4671-acbd-4e3b0c695c60 button.colab-df-convert');\n",
              "        buttonEl.style.display =\n",
              "          google.colab.kernel.accessAllowed ? 'block' : 'none';\n",
              "\n",
              "        async function convertToInteractive(key) {\n",
              "          const element = document.querySelector('#df-3fc63ef3-0dd4-4671-acbd-4e3b0c695c60');\n",
              "          const dataTable =\n",
              "            await google.colab.kernel.invokeFunction('convertToInteractive',\n",
              "                                                     [key], {});\n",
              "          if (!dataTable) return;\n",
              "\n",
              "          const docLinkHtml = 'Like what you see? Visit the ' +\n",
              "            '<a target=\"_blank\" href=https://colab.research.google.com/notebooks/data_table.ipynb>data table notebook</a>'\n",
              "            + ' to learn more about interactive tables.';\n",
              "          element.innerHTML = '';\n",
              "          dataTable['output_type'] = 'display_data';\n",
              "          await google.colab.output.renderOutput(dataTable, element);\n",
              "          const docLink = document.createElement('div');\n",
              "          docLink.innerHTML = docLinkHtml;\n",
              "          element.appendChild(docLink);\n",
              "        }\n",
              "      </script>\n",
              "    </div>\n",
              "  </div>\n",
              "  "
            ]
          },
          "metadata": {},
          "execution_count": 68
        }
      ]
    },
    {
      "cell_type": "code",
      "source": [
        "from keras.models import load_model\n",
        "\n",
        "def decode_prediction(pred):\n",
        "  return 'Negative' if pred < 0.5 else 'Positive'\n",
        "\n",
        "model = load_model('lstm_final.h5')\n",
        "\n",
        "with open('tokenizer.pickle', 'rb') as handle:\n",
        "  tokenizer = pickle.load(handle)\n",
        "\n",
        "tweet = t5_df['text']\n",
        "#max_length = max([len(s.split()) for s in tweet])\n",
        "#tokenize = keras.preprocessing.text.Tokenizer()\n",
        "#tokenize.fit_on_texts(tweet)\n",
        "\n",
        "tweet = pad_sequences(tokenizer.texts_to_sequences(tweet),\n",
        "                           maxlen = max_length)\n",
        "\n",
        "prediction = model.predict(tweet)\n",
        "#label = decode_prediction(prediction)\n",
        "label = np.apply_along_axis(decode_prediction, 1, prediction)\n",
        "\n",
        "Counter(label)"
      ],
      "metadata": {
        "colab": {
          "base_uri": "https://localhost:8080/"
        },
        "id": "4p-OpvnoxlAT",
        "outputId": "2d4ca5c7-8714-4d68-aadf-b6c6a99e786e"
      },
      "execution_count": 69,
      "outputs": [
        {
          "output_type": "stream",
          "name": "stdout",
          "text": [
            "31/31 [==============================] - 0s 3ms/step\n"
          ]
        },
        {
          "output_type": "execute_result",
          "data": {
            "text/plain": [
              "Counter({'Negative': 465, 'Positive': 518})"
            ]
          },
          "metadata": {},
          "execution_count": 69
        }
      ]
    },
    {
      "cell_type": "markdown",
      "source": [
        "### Sentiment Analysis - Quantitative"
      ],
      "metadata": {
        "id": "t7-FQ1Ig4MGC"
      }
    },
    {
      "cell_type": "code",
      "source": [
        "t5_sent = pd.DataFrame({'Text': t5_df['text'], 'Score': prediction.flatten(), 'Label': label.flatten()})\n",
        "t5_sent.head()"
      ],
      "metadata": {
        "colab": {
          "base_uri": "https://localhost:8080/",
          "height": 206
        },
        "id": "QSzVMA-y4L06",
        "outputId": "f2071ce5-1ee7-4017-e5c4-6dc339c1584c"
      },
      "execution_count": 70,
      "outputs": [
        {
          "output_type": "execute_result",
          "data": {
            "text/plain": [
              "                                                Text     Score     Label\n",
              "0  early in pandemic frantic doctors traded tips ...  0.078434  Negative\n",
              "1  post shower curlycues at my nape very odd quar...  0.634090  Positive\n",
              "2  some people smoke weed i drink wine lockdown20...  0.961259  Positive\n",
              "3   facemasks facemasks4all gifts shoppingonline ...  0.651301  Positive\n",
              "4  florida pair arrested for breaking covid 19 qu...  0.036746  Negative"
            ],
            "text/html": [
              "\n",
              "  <div id=\"df-f39bb6b1-6c7e-4de5-839e-44696f4cadc1\">\n",
              "    <div class=\"colab-df-container\">\n",
              "      <div>\n",
              "<style scoped>\n",
              "    .dataframe tbody tr th:only-of-type {\n",
              "        vertical-align: middle;\n",
              "    }\n",
              "\n",
              "    .dataframe tbody tr th {\n",
              "        vertical-align: top;\n",
              "    }\n",
              "\n",
              "    .dataframe thead th {\n",
              "        text-align: right;\n",
              "    }\n",
              "</style>\n",
              "<table border=\"1\" class=\"dataframe\">\n",
              "  <thead>\n",
              "    <tr style=\"text-align: right;\">\n",
              "      <th></th>\n",
              "      <th>Text</th>\n",
              "      <th>Score</th>\n",
              "      <th>Label</th>\n",
              "    </tr>\n",
              "  </thead>\n",
              "  <tbody>\n",
              "    <tr>\n",
              "      <th>0</th>\n",
              "      <td>early in pandemic frantic doctors traded tips ...</td>\n",
              "      <td>0.078434</td>\n",
              "      <td>Negative</td>\n",
              "    </tr>\n",
              "    <tr>\n",
              "      <th>1</th>\n",
              "      <td>post shower curlycues at my nape very odd quar...</td>\n",
              "      <td>0.634090</td>\n",
              "      <td>Positive</td>\n",
              "    </tr>\n",
              "    <tr>\n",
              "      <th>2</th>\n",
              "      <td>some people smoke weed i drink wine lockdown20...</td>\n",
              "      <td>0.961259</td>\n",
              "      <td>Positive</td>\n",
              "    </tr>\n",
              "    <tr>\n",
              "      <th>3</th>\n",
              "      <td>facemasks facemasks4all gifts shoppingonline ...</td>\n",
              "      <td>0.651301</td>\n",
              "      <td>Positive</td>\n",
              "    </tr>\n",
              "    <tr>\n",
              "      <th>4</th>\n",
              "      <td>florida pair arrested for breaking covid 19 qu...</td>\n",
              "      <td>0.036746</td>\n",
              "      <td>Negative</td>\n",
              "    </tr>\n",
              "  </tbody>\n",
              "</table>\n",
              "</div>\n",
              "      <button class=\"colab-df-convert\" onclick=\"convertToInteractive('df-f39bb6b1-6c7e-4de5-839e-44696f4cadc1')\"\n",
              "              title=\"Convert this dataframe to an interactive table.\"\n",
              "              style=\"display:none;\">\n",
              "        \n",
              "  <svg xmlns=\"http://www.w3.org/2000/svg\" height=\"24px\"viewBox=\"0 0 24 24\"\n",
              "       width=\"24px\">\n",
              "    <path d=\"M0 0h24v24H0V0z\" fill=\"none\"/>\n",
              "    <path d=\"M18.56 5.44l.94 2.06.94-2.06 2.06-.94-2.06-.94-.94-2.06-.94 2.06-2.06.94zm-11 1L8.5 8.5l.94-2.06 2.06-.94-2.06-.94L8.5 2.5l-.94 2.06-2.06.94zm10 10l.94 2.06.94-2.06 2.06-.94-2.06-.94-.94-2.06-.94 2.06-2.06.94z\"/><path d=\"M17.41 7.96l-1.37-1.37c-.4-.4-.92-.59-1.43-.59-.52 0-1.04.2-1.43.59L10.3 9.45l-7.72 7.72c-.78.78-.78 2.05 0 2.83L4 21.41c.39.39.9.59 1.41.59.51 0 1.02-.2 1.41-.59l7.78-7.78 2.81-2.81c.8-.78.8-2.07 0-2.86zM5.41 20L4 18.59l7.72-7.72 1.47 1.35L5.41 20z\"/>\n",
              "  </svg>\n",
              "      </button>\n",
              "      \n",
              "  <style>\n",
              "    .colab-df-container {\n",
              "      display:flex;\n",
              "      flex-wrap:wrap;\n",
              "      gap: 12px;\n",
              "    }\n",
              "\n",
              "    .colab-df-convert {\n",
              "      background-color: #E8F0FE;\n",
              "      border: none;\n",
              "      border-radius: 50%;\n",
              "      cursor: pointer;\n",
              "      display: none;\n",
              "      fill: #1967D2;\n",
              "      height: 32px;\n",
              "      padding: 0 0 0 0;\n",
              "      width: 32px;\n",
              "    }\n",
              "\n",
              "    .colab-df-convert:hover {\n",
              "      background-color: #E2EBFA;\n",
              "      box-shadow: 0px 1px 2px rgba(60, 64, 67, 0.3), 0px 1px 3px 1px rgba(60, 64, 67, 0.15);\n",
              "      fill: #174EA6;\n",
              "    }\n",
              "\n",
              "    [theme=dark] .colab-df-convert {\n",
              "      background-color: #3B4455;\n",
              "      fill: #D2E3FC;\n",
              "    }\n",
              "\n",
              "    [theme=dark] .colab-df-convert:hover {\n",
              "      background-color: #434B5C;\n",
              "      box-shadow: 0px 1px 3px 1px rgba(0, 0, 0, 0.15);\n",
              "      filter: drop-shadow(0px 1px 2px rgba(0, 0, 0, 0.3));\n",
              "      fill: #FFFFFF;\n",
              "    }\n",
              "  </style>\n",
              "\n",
              "      <script>\n",
              "        const buttonEl =\n",
              "          document.querySelector('#df-f39bb6b1-6c7e-4de5-839e-44696f4cadc1 button.colab-df-convert');\n",
              "        buttonEl.style.display =\n",
              "          google.colab.kernel.accessAllowed ? 'block' : 'none';\n",
              "\n",
              "        async function convertToInteractive(key) {\n",
              "          const element = document.querySelector('#df-f39bb6b1-6c7e-4de5-839e-44696f4cadc1');\n",
              "          const dataTable =\n",
              "            await google.colab.kernel.invokeFunction('convertToInteractive',\n",
              "                                                     [key], {});\n",
              "          if (!dataTable) return;\n",
              "\n",
              "          const docLinkHtml = 'Like what you see? Visit the ' +\n",
              "            '<a target=\"_blank\" href=https://colab.research.google.com/notebooks/data_table.ipynb>data table notebook</a>'\n",
              "            + ' to learn more about interactive tables.';\n",
              "          element.innerHTML = '';\n",
              "          dataTable['output_type'] = 'display_data';\n",
              "          await google.colab.output.renderOutput(dataTable, element);\n",
              "          const docLink = document.createElement('div');\n",
              "          docLink.innerHTML = docLinkHtml;\n",
              "          element.appendChild(docLink);\n",
              "        }\n",
              "      </script>\n",
              "    </div>\n",
              "  </div>\n",
              "  "
            ]
          },
          "metadata": {},
          "execution_count": 70
        }
      ]
    },
    {
      "cell_type": "code",
      "source": [
        "positiveTweets_t5 = t5_sent[t5_sent.Label == 'Positive']\n",
        "positiveTweets_t5_pct = round((positiveTweets_t5.shape[0]/t5_sent.shape[0])*100, 1)\n",
        "print(f'Percentage of Positive Tweets is {positiveTweets_t5_pct}')\n",
        "\n",
        "negativeTweets_t5 = t5_sent[t5_sent.Label == 'Negative']\n",
        "negativeTweets_t5_pct = round((negativeTweets_t5.shape[0]/t5_sent.shape[0])*100, 1)\n",
        "print(f'Percentage of Negative Tweets is {negativeTweets_t5_pct}')"
      ],
      "metadata": {
        "colab": {
          "base_uri": "https://localhost:8080/"
        },
        "id": "4XcloVKY4Lyj",
        "outputId": "ab4ccfc1-8836-4133-9092-63b1890aacd8"
      },
      "execution_count": 71,
      "outputs": [
        {
          "output_type": "stream",
          "name": "stdout",
          "text": [
            "Percentage of Positive Tweets is 52.7\n",
            "Percentage of Negative Tweets is 47.3\n"
          ]
        }
      ]
    },
    {
      "cell_type": "markdown",
      "source": [
        "## Timeframe 6 (August 2020)"
      ],
      "metadata": {
        "id": "B2LS5Lca4fvV"
      }
    },
    {
      "cell_type": "code",
      "source": [
        "# file directory change as needed\n",
        "# downloaded csv file in google drive\n",
        "\n",
        "t6_df = pd.read_csv('gdrive/My Drive/Colab Notebooks/Social_Paper3/t6_csv.csv')\n",
        "t6_df = t6_df.drop(['Unnamed: 0', 'id'], axis = 1)\n",
        "t6_df['Id'] = range(1, len(t6_df) + 1)\n",
        "first_column = t6_df.pop('Id')\n",
        "t6_df.insert(0, 'Id', first_column)"
      ],
      "metadata": {
        "id": "ztdG-YLh4Lru"
      },
      "execution_count": 74,
      "outputs": []
    },
    {
      "cell_type": "code",
      "source": [
        "t6_df.content.is_unique"
      ],
      "metadata": {
        "colab": {
          "base_uri": "https://localhost:8080/"
        },
        "id": "l22M5kh44LpT",
        "outputId": "7d295860-1a6f-46f4-816d-5015ce802439"
      },
      "execution_count": 75,
      "outputs": [
        {
          "output_type": "execute_result",
          "data": {
            "text/plain": [
              "False"
            ]
          },
          "metadata": {},
          "execution_count": 75
        }
      ]
    },
    {
      "cell_type": "code",
      "source": [
        "t6_df = t6_df.drop_duplicates(subset = ['content'])\n",
        "print(t6_df.shape)"
      ],
      "metadata": {
        "colab": {
          "base_uri": "https://localhost:8080/"
        },
        "id": "5-fLPQ7M4Lmw",
        "outputId": "63a213e7-82ff-4dfd-d5b4-79826b3e5a70"
      },
      "execution_count": 76,
      "outputs": [
        {
          "output_type": "stream",
          "name": "stdout",
          "text": [
            "(980, 4)\n"
          ]
        }
      ]
    },
    {
      "cell_type": "code",
      "source": [
        "def remove_timezone(dt):\n",
        "  return dt.replace(tzinfo = None)\n",
        "\n",
        "t6_df['date'] = pd.to_datetime(t6_df['date'])\n",
        "t6_df['date'] = t6_df['date'].apply(remove_timezone)\n",
        "\n",
        "t6_df['text'] = t6_df.content.apply(lambda x: re.sub(r'https?:\\/\\/\\S+', ' ', x))\n",
        "t6_df['text'] = t6_df.text.apply(lambda x: re.sub(r\"www\\.[a-z]?\\.?(com)+|[a-z]+\\.(com)\", ' ', x))\n",
        "t6_df['text'] = t6_df.text.apply(lambda x: re.sub(r\"\\b's\\b\", ' ', x))\n",
        "t6_df['text'] = t6_df.text.apply(lambda x: re.sub(r'{link}', ' ', x))\n",
        "t6_df['text'] = t6_df.text.apply(lambda x: re.sub(r\"\\[video\\]\", ' ', x))\n",
        "t6_df['text'] = t6_df.text.apply(lambda x: re.sub(r'&[a-z]+;', ' ', x))\n",
        "t6_df['text'] = t6_df.text.apply(lambda x: re.sub(r'\\s*@\\w+', ' ', x))\n",
        "t6_df['text'] = t6_df.text.apply(lambda x: re.sub(r'[^\\w]', ' ', x))\n",
        "t6_df['text'] = t6_df.text.apply(lambda x: re.sub(r'\\n', ' ', x))\n",
        "t6_df['text'] = t6_df.text.apply(lambda x: re.sub(r'[^a-zA-Z0-9]+', ' ', x))\n",
        "t6_df['text'] = t6_df.text.str.lower()\n",
        "\n",
        "t6_df['tokens'] = t6_df['content'].apply(tknzr.tokenize)\n",
        "\n",
        "t6_df.head()"
      ],
      "metadata": {
        "colab": {
          "base_uri": "https://localhost:8080/",
          "height": 458
        },
        "id": "ogO6OgZE4Lki",
        "outputId": "f84b1136-7549-497f-9196-60ba98cf8860"
      },
      "execution_count": 77,
      "outputs": [
        {
          "output_type": "execute_result",
          "data": {
            "text/plain": [
              "   Id                date                                            content  \\\n",
              "0   1 2020-08-30 23:48:10  @Rustyg62 #QuestionOfTheDay #COVID19\\n\\nGreat ...   \n",
              "1   2 2020-08-30 23:47:05  🌸✋🌼😷💮👐🌸😷🌼✋💮\\n#facemasks #facemasks4all\\n#gifts...   \n",
              "2   3 2020-08-30 23:35:52  As the virus changes its strategy, we don't! C...   \n",
              "3   4 2020-08-30 23:27:18  Once #COVID19 is over, what’s the first thing ...   \n",
              "4   5 2020-08-30 23:10:30  COVID-19 arrest \\nhttps://t.co/xmqMVkt2CB\\n#Al...   \n",
              "\n",
              "                                            hashtags  \\\n",
              "0      ['QuestionOfTheDay', 'COVID19', 'quarantine']   \n",
              "1  ['facemasks', 'facemasks4all', 'gifts', 'shopp...   \n",
              "2  ['coronavirus', 'covid19', 'corona', 'virus', ...   \n",
              "3  ['COVID19', 'cardiotwitter', 'MedTwitter', 'Me...   \n",
              "4  ['AliceSprings', 'Australia', 'Border', 'Coron...   \n",
              "\n",
              "                                                text  \\\n",
              "0   questionoftheday covid19 great question medic...   \n",
              "1   facemasks facemasks4all gifts shoppingonline ...   \n",
              "2  as the virus changes its strategy we don t con...   \n",
              "3  once covid19 is over what s the first thing yo...   \n",
              "4  covid 19 arrest alicesprings australia border ...   \n",
              "\n",
              "                                              tokens  \n",
              "0  [@Rustyg62, #QuestionOfTheDay, #COVID19, Great...  \n",
              "1  [🌸, ✋, 🌼, 😷, 💮, 👐, 🌸, 😷, 🌼, ✋, 💮, #facemasks, ...  \n",
              "2  [As, the, virus, changes, its, strategy, ,, we...  \n",
              "3  [Once, #COVID19, is, over, ,, what, ’, s, the,...  \n",
              "4  [COVID, -, 19, arrest, https://t.co/xmqMVkt2CB...  "
            ],
            "text/html": [
              "\n",
              "  <div id=\"df-72663963-5d86-4547-8c83-88681cc66e4e\">\n",
              "    <div class=\"colab-df-container\">\n",
              "      <div>\n",
              "<style scoped>\n",
              "    .dataframe tbody tr th:only-of-type {\n",
              "        vertical-align: middle;\n",
              "    }\n",
              "\n",
              "    .dataframe tbody tr th {\n",
              "        vertical-align: top;\n",
              "    }\n",
              "\n",
              "    .dataframe thead th {\n",
              "        text-align: right;\n",
              "    }\n",
              "</style>\n",
              "<table border=\"1\" class=\"dataframe\">\n",
              "  <thead>\n",
              "    <tr style=\"text-align: right;\">\n",
              "      <th></th>\n",
              "      <th>Id</th>\n",
              "      <th>date</th>\n",
              "      <th>content</th>\n",
              "      <th>hashtags</th>\n",
              "      <th>text</th>\n",
              "      <th>tokens</th>\n",
              "    </tr>\n",
              "  </thead>\n",
              "  <tbody>\n",
              "    <tr>\n",
              "      <th>0</th>\n",
              "      <td>1</td>\n",
              "      <td>2020-08-30 23:48:10</td>\n",
              "      <td>@Rustyg62 #QuestionOfTheDay #COVID19\\n\\nGreat ...</td>\n",
              "      <td>['QuestionOfTheDay', 'COVID19', 'quarantine']</td>\n",
              "      <td>questionoftheday covid19 great question medic...</td>\n",
              "      <td>[@Rustyg62, #QuestionOfTheDay, #COVID19, Great...</td>\n",
              "    </tr>\n",
              "    <tr>\n",
              "      <th>1</th>\n",
              "      <td>2</td>\n",
              "      <td>2020-08-30 23:47:05</td>\n",
              "      <td>🌸✋🌼😷💮👐🌸😷🌼✋💮\\n#facemasks #facemasks4all\\n#gifts...</td>\n",
              "      <td>['facemasks', 'facemasks4all', 'gifts', 'shopp...</td>\n",
              "      <td>facemasks facemasks4all gifts shoppingonline ...</td>\n",
              "      <td>[🌸, ✋, 🌼, 😷, 💮, 👐, 🌸, 😷, 🌼, ✋, 💮, #facemasks, ...</td>\n",
              "    </tr>\n",
              "    <tr>\n",
              "      <th>2</th>\n",
              "      <td>3</td>\n",
              "      <td>2020-08-30 23:35:52</td>\n",
              "      <td>As the virus changes its strategy, we don't! C...</td>\n",
              "      <td>['coronavirus', 'covid19', 'corona', 'virus', ...</td>\n",
              "      <td>as the virus changes its strategy we don t con...</td>\n",
              "      <td>[As, the, virus, changes, its, strategy, ,, we...</td>\n",
              "    </tr>\n",
              "    <tr>\n",
              "      <th>3</th>\n",
              "      <td>4</td>\n",
              "      <td>2020-08-30 23:27:18</td>\n",
              "      <td>Once #COVID19 is over, what’s the first thing ...</td>\n",
              "      <td>['COVID19', 'cardiotwitter', 'MedTwitter', 'Me...</td>\n",
              "      <td>once covid19 is over what s the first thing yo...</td>\n",
              "      <td>[Once, #COVID19, is, over, ,, what, ’, s, the,...</td>\n",
              "    </tr>\n",
              "    <tr>\n",
              "      <th>4</th>\n",
              "      <td>5</td>\n",
              "      <td>2020-08-30 23:10:30</td>\n",
              "      <td>COVID-19 arrest \\nhttps://t.co/xmqMVkt2CB\\n#Al...</td>\n",
              "      <td>['AliceSprings', 'Australia', 'Border', 'Coron...</td>\n",
              "      <td>covid 19 arrest alicesprings australia border ...</td>\n",
              "      <td>[COVID, -, 19, arrest, https://t.co/xmqMVkt2CB...</td>\n",
              "    </tr>\n",
              "  </tbody>\n",
              "</table>\n",
              "</div>\n",
              "      <button class=\"colab-df-convert\" onclick=\"convertToInteractive('df-72663963-5d86-4547-8c83-88681cc66e4e')\"\n",
              "              title=\"Convert this dataframe to an interactive table.\"\n",
              "              style=\"display:none;\">\n",
              "        \n",
              "  <svg xmlns=\"http://www.w3.org/2000/svg\" height=\"24px\"viewBox=\"0 0 24 24\"\n",
              "       width=\"24px\">\n",
              "    <path d=\"M0 0h24v24H0V0z\" fill=\"none\"/>\n",
              "    <path d=\"M18.56 5.44l.94 2.06.94-2.06 2.06-.94-2.06-.94-.94-2.06-.94 2.06-2.06.94zm-11 1L8.5 8.5l.94-2.06 2.06-.94-2.06-.94L8.5 2.5l-.94 2.06-2.06.94zm10 10l.94 2.06.94-2.06 2.06-.94-2.06-.94-.94-2.06-.94 2.06-2.06.94z\"/><path d=\"M17.41 7.96l-1.37-1.37c-.4-.4-.92-.59-1.43-.59-.52 0-1.04.2-1.43.59L10.3 9.45l-7.72 7.72c-.78.78-.78 2.05 0 2.83L4 21.41c.39.39.9.59 1.41.59.51 0 1.02-.2 1.41-.59l7.78-7.78 2.81-2.81c.8-.78.8-2.07 0-2.86zM5.41 20L4 18.59l7.72-7.72 1.47 1.35L5.41 20z\"/>\n",
              "  </svg>\n",
              "      </button>\n",
              "      \n",
              "  <style>\n",
              "    .colab-df-container {\n",
              "      display:flex;\n",
              "      flex-wrap:wrap;\n",
              "      gap: 12px;\n",
              "    }\n",
              "\n",
              "    .colab-df-convert {\n",
              "      background-color: #E8F0FE;\n",
              "      border: none;\n",
              "      border-radius: 50%;\n",
              "      cursor: pointer;\n",
              "      display: none;\n",
              "      fill: #1967D2;\n",
              "      height: 32px;\n",
              "      padding: 0 0 0 0;\n",
              "      width: 32px;\n",
              "    }\n",
              "\n",
              "    .colab-df-convert:hover {\n",
              "      background-color: #E2EBFA;\n",
              "      box-shadow: 0px 1px 2px rgba(60, 64, 67, 0.3), 0px 1px 3px 1px rgba(60, 64, 67, 0.15);\n",
              "      fill: #174EA6;\n",
              "    }\n",
              "\n",
              "    [theme=dark] .colab-df-convert {\n",
              "      background-color: #3B4455;\n",
              "      fill: #D2E3FC;\n",
              "    }\n",
              "\n",
              "    [theme=dark] .colab-df-convert:hover {\n",
              "      background-color: #434B5C;\n",
              "      box-shadow: 0px 1px 3px 1px rgba(0, 0, 0, 0.15);\n",
              "      filter: drop-shadow(0px 1px 2px rgba(0, 0, 0, 0.3));\n",
              "      fill: #FFFFFF;\n",
              "    }\n",
              "  </style>\n",
              "\n",
              "      <script>\n",
              "        const buttonEl =\n",
              "          document.querySelector('#df-72663963-5d86-4547-8c83-88681cc66e4e button.colab-df-convert');\n",
              "        buttonEl.style.display =\n",
              "          google.colab.kernel.accessAllowed ? 'block' : 'none';\n",
              "\n",
              "        async function convertToInteractive(key) {\n",
              "          const element = document.querySelector('#df-72663963-5d86-4547-8c83-88681cc66e4e');\n",
              "          const dataTable =\n",
              "            await google.colab.kernel.invokeFunction('convertToInteractive',\n",
              "                                                     [key], {});\n",
              "          if (!dataTable) return;\n",
              "\n",
              "          const docLinkHtml = 'Like what you see? Visit the ' +\n",
              "            '<a target=\"_blank\" href=https://colab.research.google.com/notebooks/data_table.ipynb>data table notebook</a>'\n",
              "            + ' to learn more about interactive tables.';\n",
              "          element.innerHTML = '';\n",
              "          dataTable['output_type'] = 'display_data';\n",
              "          await google.colab.output.renderOutput(dataTable, element);\n",
              "          const docLink = document.createElement('div');\n",
              "          docLink.innerHTML = docLinkHtml;\n",
              "          element.appendChild(docLink);\n",
              "        }\n",
              "      </script>\n",
              "    </div>\n",
              "  </div>\n",
              "  "
            ]
          },
          "metadata": {},
          "execution_count": 77
        }
      ]
    },
    {
      "cell_type": "code",
      "source": [
        "from keras.models import load_model\n",
        "\n",
        "def decode_prediction(pred):\n",
        "  return 'Negative' if pred < 0.5 else 'Positive'\n",
        "\n",
        "model = load_model('lstm_final.h5')\n",
        "\n",
        "with open('tokenizer.pickle', 'rb') as handle:\n",
        "  tokenizer = pickle.load(handle)\n",
        "\n",
        "tweet = t6_df['text']\n",
        "#max_length = max([len(s.split()) for s in tweet])\n",
        "#tokenize = keras.preprocessing.text.Tokenizer()\n",
        "#tokenize.fit_on_texts(tweet)\n",
        "\n",
        "tweet = pad_sequences(tokenizer.texts_to_sequences(tweet),\n",
        "                           maxlen = max_length)\n",
        "\n",
        "prediction = model.predict(tweet)\n",
        "#label = decode_prediction(prediction)\n",
        "label = np.apply_along_axis(decode_prediction, 1, prediction)\n",
        "\n",
        "Counter(label)"
      ],
      "metadata": {
        "colab": {
          "base_uri": "https://localhost:8080/"
        },
        "id": "tvfuSXJx4LiI",
        "outputId": "681377a4-8c7e-4789-9631-e131d857c6a7"
      },
      "execution_count": 78,
      "outputs": [
        {
          "output_type": "stream",
          "name": "stdout",
          "text": [
            "31/31 [==============================] - 1s 4ms/step\n"
          ]
        },
        {
          "output_type": "execute_result",
          "data": {
            "text/plain": [
              "Counter({'Positive': 574, 'Negative': 406})"
            ]
          },
          "metadata": {},
          "execution_count": 78
        }
      ]
    },
    {
      "cell_type": "markdown",
      "source": [
        "### Sentiment Analysis - Quantitative"
      ],
      "metadata": {
        "id": "lqL2vHmT4z9e"
      }
    },
    {
      "cell_type": "code",
      "source": [
        "t6_sent = pd.DataFrame({'Text': t6_df['text'], 'Score': prediction.flatten(), 'Label': label.flatten()})\n",
        "t6_sent.head()"
      ],
      "metadata": {
        "colab": {
          "base_uri": "https://localhost:8080/",
          "height": 206
        },
        "id": "CqEThc0t4LgD",
        "outputId": "480329e2-dead-42fc-a357-6066d062833d"
      },
      "execution_count": 79,
      "outputs": [
        {
          "output_type": "execute_result",
          "data": {
            "text/plain": [
              "                                                Text     Score     Label\n",
              "0   questionoftheday covid19 great question medic...  0.718479  Positive\n",
              "1   facemasks facemasks4all gifts shoppingonline ...  0.651301  Positive\n",
              "2  as the virus changes its strategy we don t con...  0.524979  Positive\n",
              "3  once covid19 is over what s the first thing yo...  0.818408  Positive\n",
              "4  covid 19 arrest alicesprings australia border ...  0.045010  Negative"
            ],
            "text/html": [
              "\n",
              "  <div id=\"df-5a5a7263-4e47-42e4-a872-4020f9451750\">\n",
              "    <div class=\"colab-df-container\">\n",
              "      <div>\n",
              "<style scoped>\n",
              "    .dataframe tbody tr th:only-of-type {\n",
              "        vertical-align: middle;\n",
              "    }\n",
              "\n",
              "    .dataframe tbody tr th {\n",
              "        vertical-align: top;\n",
              "    }\n",
              "\n",
              "    .dataframe thead th {\n",
              "        text-align: right;\n",
              "    }\n",
              "</style>\n",
              "<table border=\"1\" class=\"dataframe\">\n",
              "  <thead>\n",
              "    <tr style=\"text-align: right;\">\n",
              "      <th></th>\n",
              "      <th>Text</th>\n",
              "      <th>Score</th>\n",
              "      <th>Label</th>\n",
              "    </tr>\n",
              "  </thead>\n",
              "  <tbody>\n",
              "    <tr>\n",
              "      <th>0</th>\n",
              "      <td>questionoftheday covid19 great question medic...</td>\n",
              "      <td>0.718479</td>\n",
              "      <td>Positive</td>\n",
              "    </tr>\n",
              "    <tr>\n",
              "      <th>1</th>\n",
              "      <td>facemasks facemasks4all gifts shoppingonline ...</td>\n",
              "      <td>0.651301</td>\n",
              "      <td>Positive</td>\n",
              "    </tr>\n",
              "    <tr>\n",
              "      <th>2</th>\n",
              "      <td>as the virus changes its strategy we don t con...</td>\n",
              "      <td>0.524979</td>\n",
              "      <td>Positive</td>\n",
              "    </tr>\n",
              "    <tr>\n",
              "      <th>3</th>\n",
              "      <td>once covid19 is over what s the first thing yo...</td>\n",
              "      <td>0.818408</td>\n",
              "      <td>Positive</td>\n",
              "    </tr>\n",
              "    <tr>\n",
              "      <th>4</th>\n",
              "      <td>covid 19 arrest alicesprings australia border ...</td>\n",
              "      <td>0.045010</td>\n",
              "      <td>Negative</td>\n",
              "    </tr>\n",
              "  </tbody>\n",
              "</table>\n",
              "</div>\n",
              "      <button class=\"colab-df-convert\" onclick=\"convertToInteractive('df-5a5a7263-4e47-42e4-a872-4020f9451750')\"\n",
              "              title=\"Convert this dataframe to an interactive table.\"\n",
              "              style=\"display:none;\">\n",
              "        \n",
              "  <svg xmlns=\"http://www.w3.org/2000/svg\" height=\"24px\"viewBox=\"0 0 24 24\"\n",
              "       width=\"24px\">\n",
              "    <path d=\"M0 0h24v24H0V0z\" fill=\"none\"/>\n",
              "    <path d=\"M18.56 5.44l.94 2.06.94-2.06 2.06-.94-2.06-.94-.94-2.06-.94 2.06-2.06.94zm-11 1L8.5 8.5l.94-2.06 2.06-.94-2.06-.94L8.5 2.5l-.94 2.06-2.06.94zm10 10l.94 2.06.94-2.06 2.06-.94-2.06-.94-.94-2.06-.94 2.06-2.06.94z\"/><path d=\"M17.41 7.96l-1.37-1.37c-.4-.4-.92-.59-1.43-.59-.52 0-1.04.2-1.43.59L10.3 9.45l-7.72 7.72c-.78.78-.78 2.05 0 2.83L4 21.41c.39.39.9.59 1.41.59.51 0 1.02-.2 1.41-.59l7.78-7.78 2.81-2.81c.8-.78.8-2.07 0-2.86zM5.41 20L4 18.59l7.72-7.72 1.47 1.35L5.41 20z\"/>\n",
              "  </svg>\n",
              "      </button>\n",
              "      \n",
              "  <style>\n",
              "    .colab-df-container {\n",
              "      display:flex;\n",
              "      flex-wrap:wrap;\n",
              "      gap: 12px;\n",
              "    }\n",
              "\n",
              "    .colab-df-convert {\n",
              "      background-color: #E8F0FE;\n",
              "      border: none;\n",
              "      border-radius: 50%;\n",
              "      cursor: pointer;\n",
              "      display: none;\n",
              "      fill: #1967D2;\n",
              "      height: 32px;\n",
              "      padding: 0 0 0 0;\n",
              "      width: 32px;\n",
              "    }\n",
              "\n",
              "    .colab-df-convert:hover {\n",
              "      background-color: #E2EBFA;\n",
              "      box-shadow: 0px 1px 2px rgba(60, 64, 67, 0.3), 0px 1px 3px 1px rgba(60, 64, 67, 0.15);\n",
              "      fill: #174EA6;\n",
              "    }\n",
              "\n",
              "    [theme=dark] .colab-df-convert {\n",
              "      background-color: #3B4455;\n",
              "      fill: #D2E3FC;\n",
              "    }\n",
              "\n",
              "    [theme=dark] .colab-df-convert:hover {\n",
              "      background-color: #434B5C;\n",
              "      box-shadow: 0px 1px 3px 1px rgba(0, 0, 0, 0.15);\n",
              "      filter: drop-shadow(0px 1px 2px rgba(0, 0, 0, 0.3));\n",
              "      fill: #FFFFFF;\n",
              "    }\n",
              "  </style>\n",
              "\n",
              "      <script>\n",
              "        const buttonEl =\n",
              "          document.querySelector('#df-5a5a7263-4e47-42e4-a872-4020f9451750 button.colab-df-convert');\n",
              "        buttonEl.style.display =\n",
              "          google.colab.kernel.accessAllowed ? 'block' : 'none';\n",
              "\n",
              "        async function convertToInteractive(key) {\n",
              "          const element = document.querySelector('#df-5a5a7263-4e47-42e4-a872-4020f9451750');\n",
              "          const dataTable =\n",
              "            await google.colab.kernel.invokeFunction('convertToInteractive',\n",
              "                                                     [key], {});\n",
              "          if (!dataTable) return;\n",
              "\n",
              "          const docLinkHtml = 'Like what you see? Visit the ' +\n",
              "            '<a target=\"_blank\" href=https://colab.research.google.com/notebooks/data_table.ipynb>data table notebook</a>'\n",
              "            + ' to learn more about interactive tables.';\n",
              "          element.innerHTML = '';\n",
              "          dataTable['output_type'] = 'display_data';\n",
              "          await google.colab.output.renderOutput(dataTable, element);\n",
              "          const docLink = document.createElement('div');\n",
              "          docLink.innerHTML = docLinkHtml;\n",
              "          element.appendChild(docLink);\n",
              "        }\n",
              "      </script>\n",
              "    </div>\n",
              "  </div>\n",
              "  "
            ]
          },
          "metadata": {},
          "execution_count": 79
        }
      ]
    },
    {
      "cell_type": "code",
      "source": [
        "positiveTweets_t6 = t6_sent[t6_sent.Label == 'Positive']\n",
        "positiveTweets_t6_pct = round((positiveTweets_t6.shape[0]/t6_sent.shape[0])*100, 1)\n",
        "print(f'Percentage of Positive Tweets is {positiveTweets_t6_pct}')\n",
        "\n",
        "negativeTweets_t6 = t6_sent[t6_sent.Label == 'Negative']\n",
        "negativeTweets_t6_pct = round((negativeTweets_t6.shape[0]/t6_sent.shape[0])*100, 1)\n",
        "print(f'Percentage of Negative Tweets is {negativeTweets_t6_pct}')"
      ],
      "metadata": {
        "colab": {
          "base_uri": "https://localhost:8080/"
        },
        "id": "cygdCPi-4Ld2",
        "outputId": "5606ef95-ddeb-43a8-c67c-eb2fdfe4328a"
      },
      "execution_count": 80,
      "outputs": [
        {
          "output_type": "stream",
          "name": "stdout",
          "text": [
            "Percentage of Positive Tweets is 58.6\n",
            "Percentage of Negative Tweets is 41.4\n"
          ]
        }
      ]
    },
    {
      "cell_type": "markdown",
      "source": [
        "# Plotting"
      ],
      "metadata": {
        "id": "YnQBm1c7xAGW"
      }
    },
    {
      "cell_type": "code",
      "source": [
        "num_positive_twts = [positiveTweets_t1_pct, positiveTweets_t2_pct, positiveTweets_t3_pct, positiveTweets_t4_pct, positiveTweets_t5_pct, positiveTweets_t6_pct]\n",
        "num_negative_twts = [negativeTweets_t1_pct, negativeTweets_t2_pct, negativeTweets_t3_pct, negativeTweets_t4_pct, negativeTweets_t5_pct, negativeTweets_t6_pct]\n",
        "timeframe = ['March 2020', 'April 2020', 'May 2020', 'June 2020', 'July 2020', 'August 2020']\n",
        "\n",
        "df_sentiment = pd.DataFrame({'Timeframe': timeframe,\n",
        "                             'Percentage of Positive Tweets': num_positive_twts, \n",
        "                            'Percentage of Negative Tweets': num_negative_twts})\n",
        "df_sentiment"
      ],
      "metadata": {
        "colab": {
          "base_uri": "https://localhost:8080/",
          "height": 238
        },
        "id": "EDR9y0N-wTYO",
        "outputId": "5be040e4-0cc0-4e15-aabc-d53325acf08b"
      },
      "execution_count": 83,
      "outputs": [
        {
          "output_type": "execute_result",
          "data": {
            "text/plain": [
              "     Timeframe  Percentage of Positive Tweets  Percentage of Negative Tweets\n",
              "0   March 2020                           48.9                           51.1\n",
              "1   April 2020                           60.6                           39.4\n",
              "2     May 2020                           59.1                           40.9\n",
              "3    June 2020                           58.4                           41.6\n",
              "4    July 2020                           52.7                           47.3\n",
              "5  August 2020                           58.6                           41.4"
            ],
            "text/html": [
              "\n",
              "  <div id=\"df-0351c595-54e5-418a-b635-e7e6f1c26a93\">\n",
              "    <div class=\"colab-df-container\">\n",
              "      <div>\n",
              "<style scoped>\n",
              "    .dataframe tbody tr th:only-of-type {\n",
              "        vertical-align: middle;\n",
              "    }\n",
              "\n",
              "    .dataframe tbody tr th {\n",
              "        vertical-align: top;\n",
              "    }\n",
              "\n",
              "    .dataframe thead th {\n",
              "        text-align: right;\n",
              "    }\n",
              "</style>\n",
              "<table border=\"1\" class=\"dataframe\">\n",
              "  <thead>\n",
              "    <tr style=\"text-align: right;\">\n",
              "      <th></th>\n",
              "      <th>Timeframe</th>\n",
              "      <th>Percentage of Positive Tweets</th>\n",
              "      <th>Percentage of Negative Tweets</th>\n",
              "    </tr>\n",
              "  </thead>\n",
              "  <tbody>\n",
              "    <tr>\n",
              "      <th>0</th>\n",
              "      <td>March 2020</td>\n",
              "      <td>48.9</td>\n",
              "      <td>51.1</td>\n",
              "    </tr>\n",
              "    <tr>\n",
              "      <th>1</th>\n",
              "      <td>April 2020</td>\n",
              "      <td>60.6</td>\n",
              "      <td>39.4</td>\n",
              "    </tr>\n",
              "    <tr>\n",
              "      <th>2</th>\n",
              "      <td>May 2020</td>\n",
              "      <td>59.1</td>\n",
              "      <td>40.9</td>\n",
              "    </tr>\n",
              "    <tr>\n",
              "      <th>3</th>\n",
              "      <td>June 2020</td>\n",
              "      <td>58.4</td>\n",
              "      <td>41.6</td>\n",
              "    </tr>\n",
              "    <tr>\n",
              "      <th>4</th>\n",
              "      <td>July 2020</td>\n",
              "      <td>52.7</td>\n",
              "      <td>47.3</td>\n",
              "    </tr>\n",
              "    <tr>\n",
              "      <th>5</th>\n",
              "      <td>August 2020</td>\n",
              "      <td>58.6</td>\n",
              "      <td>41.4</td>\n",
              "    </tr>\n",
              "  </tbody>\n",
              "</table>\n",
              "</div>\n",
              "      <button class=\"colab-df-convert\" onclick=\"convertToInteractive('df-0351c595-54e5-418a-b635-e7e6f1c26a93')\"\n",
              "              title=\"Convert this dataframe to an interactive table.\"\n",
              "              style=\"display:none;\">\n",
              "        \n",
              "  <svg xmlns=\"http://www.w3.org/2000/svg\" height=\"24px\"viewBox=\"0 0 24 24\"\n",
              "       width=\"24px\">\n",
              "    <path d=\"M0 0h24v24H0V0z\" fill=\"none\"/>\n",
              "    <path d=\"M18.56 5.44l.94 2.06.94-2.06 2.06-.94-2.06-.94-.94-2.06-.94 2.06-2.06.94zm-11 1L8.5 8.5l.94-2.06 2.06-.94-2.06-.94L8.5 2.5l-.94 2.06-2.06.94zm10 10l.94 2.06.94-2.06 2.06-.94-2.06-.94-.94-2.06-.94 2.06-2.06.94z\"/><path d=\"M17.41 7.96l-1.37-1.37c-.4-.4-.92-.59-1.43-.59-.52 0-1.04.2-1.43.59L10.3 9.45l-7.72 7.72c-.78.78-.78 2.05 0 2.83L4 21.41c.39.39.9.59 1.41.59.51 0 1.02-.2 1.41-.59l7.78-7.78 2.81-2.81c.8-.78.8-2.07 0-2.86zM5.41 20L4 18.59l7.72-7.72 1.47 1.35L5.41 20z\"/>\n",
              "  </svg>\n",
              "      </button>\n",
              "      \n",
              "  <style>\n",
              "    .colab-df-container {\n",
              "      display:flex;\n",
              "      flex-wrap:wrap;\n",
              "      gap: 12px;\n",
              "    }\n",
              "\n",
              "    .colab-df-convert {\n",
              "      background-color: #E8F0FE;\n",
              "      border: none;\n",
              "      border-radius: 50%;\n",
              "      cursor: pointer;\n",
              "      display: none;\n",
              "      fill: #1967D2;\n",
              "      height: 32px;\n",
              "      padding: 0 0 0 0;\n",
              "      width: 32px;\n",
              "    }\n",
              "\n",
              "    .colab-df-convert:hover {\n",
              "      background-color: #E2EBFA;\n",
              "      box-shadow: 0px 1px 2px rgba(60, 64, 67, 0.3), 0px 1px 3px 1px rgba(60, 64, 67, 0.15);\n",
              "      fill: #174EA6;\n",
              "    }\n",
              "\n",
              "    [theme=dark] .colab-df-convert {\n",
              "      background-color: #3B4455;\n",
              "      fill: #D2E3FC;\n",
              "    }\n",
              "\n",
              "    [theme=dark] .colab-df-convert:hover {\n",
              "      background-color: #434B5C;\n",
              "      box-shadow: 0px 1px 3px 1px rgba(0, 0, 0, 0.15);\n",
              "      filter: drop-shadow(0px 1px 2px rgba(0, 0, 0, 0.3));\n",
              "      fill: #FFFFFF;\n",
              "    }\n",
              "  </style>\n",
              "\n",
              "      <script>\n",
              "        const buttonEl =\n",
              "          document.querySelector('#df-0351c595-54e5-418a-b635-e7e6f1c26a93 button.colab-df-convert');\n",
              "        buttonEl.style.display =\n",
              "          google.colab.kernel.accessAllowed ? 'block' : 'none';\n",
              "\n",
              "        async function convertToInteractive(key) {\n",
              "          const element = document.querySelector('#df-0351c595-54e5-418a-b635-e7e6f1c26a93');\n",
              "          const dataTable =\n",
              "            await google.colab.kernel.invokeFunction('convertToInteractive',\n",
              "                                                     [key], {});\n",
              "          if (!dataTable) return;\n",
              "\n",
              "          const docLinkHtml = 'Like what you see? Visit the ' +\n",
              "            '<a target=\"_blank\" href=https://colab.research.google.com/notebooks/data_table.ipynb>data table notebook</a>'\n",
              "            + ' to learn more about interactive tables.';\n",
              "          element.innerHTML = '';\n",
              "          dataTable['output_type'] = 'display_data';\n",
              "          await google.colab.output.renderOutput(dataTable, element);\n",
              "          const docLink = document.createElement('div');\n",
              "          docLink.innerHTML = docLinkHtml;\n",
              "          element.appendChild(docLink);\n",
              "        }\n",
              "      </script>\n",
              "    </div>\n",
              "  </div>\n",
              "  "
            ]
          },
          "metadata": {},
          "execution_count": 83
        }
      ]
    },
    {
      "cell_type": "code",
      "source": [
        "plt.plot(timeframe, num_positive_twts, label = \"Positive Tweets\")\n",
        "plt.plot(timeframe, num_negative_twts, label = \"Negative Tweets\")\n",
        "plt.legend()\n",
        "plt.legend(bbox_to_anchor=(1.04, 1), loc = \"upper left\")\n",
        "plt.title(\"Percentage of Sentiments Over Time\")\n",
        "plt.ylabel(\"Percentage (%)\")\n",
        "plt.xlabel(\"Timeframe\")\n",
        "plt.show()"
      ],
      "metadata": {
        "colab": {
          "base_uri": "https://localhost:8080/",
          "height": 295
        },
        "id": "rB4D9cP7xLjd",
        "outputId": "c8e8fcc9-1150-4600-d231-06b8fe22134f"
      },
      "execution_count": 84,
      "outputs": [
        {
          "output_type": "display_data",
          "data": {
            "text/plain": [
              "<Figure size 432x288 with 1 Axes>"
            ],
            "image/png": "[encoded data removed]"
          },
          "metadata": {
            "needs_background": "light"
          }
        }
      ]
    }
  ]
}